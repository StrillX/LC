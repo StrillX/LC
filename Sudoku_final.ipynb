{
  "nbformat": 4,
  "nbformat_minor": 0,
  "metadata": {
    "colab": {
      "name": "Untitled0.ipynb",
      "provenance": [],
      "collapsed_sections": []
    },
    "kernelspec": {
      "name": "python3",
      "display_name": "Python 3"
    },
    "language_info": {
      "name": "python"
    }
  },
  "cells": [
    {
      "cell_type": "markdown",
      "metadata": {
        "id": "GcOe2Q858l3y"
      },
      "source": [
        "# 2 - Sudoku \n",
        "\n",
        "  O objetivo é preecncher uma grelha de *N²*$\\times$*N²* com inteiros positivos no intervalo de 1 até *N²*, satisfazendo as seguintes regras:\n",
        "\n",
        "  *   Cada inteiro no intervalo de 1 até *N²* ocorre só uma vez em cada coluna, linha e secção *N*$\\times$*N*.\n",
        "  *   No início do jogo uma fracção *0* $\\leq \\alpha <$ 1 das N⁴ casas da grelha são preenchidas de forma consistente com a regra anterior.\n",
        "\n",
        "Pretende-se: \n",
        "\n",
        "  *   Construir um programa para inicializar a grelha a partir dos parâmetros N e $\\alpha$.\n",
        "  *   Construir soluções do problema paras as combinações de parâmeteos *N* $\\in$ {3,4,5,6} e $\\alpha \\in$ {0.0, 0.2, 0.4, 0.6} e tirar conclusões da complexidade computacional destas soluções.\n",
        "\n",
        "**Análise do Problema** \n",
        "\n",
        "  É esperado receber um *N* e um $\\alpha$, por parte do utilizador, onde *N* corresponde ao tamanho de cada secção do Sudoku que será representado e $\\alpha$ a fracção de casas já preenchidas pela máquina. \n",
        "\n",
        "  Deste modo, o método utilizado para a construção do Sudoku foi a de um grafo. A estrutura do grafo tem a seguinte forma, *(n, A)*, onde *n* corresponde ao nodo e *A* corresponde há lista de nodos que têm uma relação com ele, ou seja, \n",
        "pertemcem à mesma secção, linha ou coluna. \n",
        "\n",
        "Seguidamente, a função **ip_color2** que verifica todas as relações entre os nodos e atribui uma cor diferente para nodos adjacentes. Deste modo, não é possivel existir a mesma cor numa mesma secção, linha ou coluna. \n",
        "\n",
        "Finalmente, como cada cor é lhe atribuído um número $\\varkappa \\in$*N²*. O grafo é representado em forma de matriz com cada cor do nodo a representado como um número.    \n",
        "\n",
        "\n",
        "\n",
        "\n",
        "\n",
        "\n",
        "\n",
        "\n"
      ]
    },
    {
      "cell_type": "code",
      "metadata": {
        "id": "P1kxFdl6H7ET",
        "colab": {
          "base_uri": "https://localhost:8080/"
        },
        "outputId": "b59d1622-b22e-41c6-ad67-065b5fff738d"
      },
      "source": [
        "!pip install ortools "
      ],
      "execution_count": 1,
      "outputs": [
        {
          "output_type": "stream",
          "name": "stdout",
          "text": [
            "Requirement already satisfied: ortools in /usr/local/lib/python3.7/dist-packages (9.1.9490)\n",
            "Requirement already satisfied: absl-py>=0.13 in /usr/local/lib/python3.7/dist-packages (from ortools) (0.15.0)\n",
            "Requirement already satisfied: protobuf>=3.18.0 in /usr/local/lib/python3.7/dist-packages (from ortools) (3.19.0)\n",
            "Requirement already satisfied: six in /usr/local/lib/python3.7/dist-packages (from absl-py>=0.13->ortools) (1.15.0)\n"
          ]
        }
      ]
    },
    {
      "cell_type": "code",
      "metadata": {
        "id": "x94lj7VzHCWq"
      },
      "source": [
        "import numpy as np\n",
        "import math \n",
        "import networkx as nx\n",
        "import time\n",
        "from random import randint\n",
        "import random \n",
        "from ortools.linear_solver import pywraplp"
      ],
      "execution_count": 2,
      "outputs": []
    },
    {
      "cell_type": "code",
      "metadata": {
        "id": "zNWdbi2cIm7K"
      },
      "source": [
        "def checkSquare(x1,y1,x2,y2,size):\n",
        "        if x1//size == x2//size and y1//size == y2//size:\n",
        "            return True\n",
        "        return False\n",
        "\n",
        "def createEdges(mat):\n",
        "    adj=[]\n",
        "    for y in range(len(mat)):\n",
        "        for x in range(len(mat[y])):\n",
        "            for outros in range(x,len(mat[y])):\n",
        "                adj.append((mat[y][x],mat[y][outros]))\n",
        "    for y in range(len(mat)):\n",
        "        for x in range(len(mat[x])):\n",
        "            for outros in range(y,len(mat)):\n",
        "                adj.append((mat[y][x],mat[outros][x]))\n",
        "            \n",
        "    for y in range(len(mat)):\n",
        "        for x in range(len(mat[y])):\n",
        "            for yy in range(len(mat)):\n",
        "                for xx in range(len(mat[yy])):\n",
        "                    if checkSquare(x,y,xx,yy,int(math.sqrt(len(mat)))) and (mat[y][x],mat[yy][xx]) not in adj:\n",
        "                        adj.append((mat[y][x],mat[yy][xx]))\n",
        "    '''\n",
        "    for (x,y) in adj:\n",
        "        if (y,x) is adj:\n",
        "            adj.remove((y,x))\n",
        "    adj = list(set(adj))\n",
        "    for (x,y) in adj:\n",
        "        if x==y :\n",
        "            adj.remove((x,y))'''\n",
        "    adjq = [(x,y) for (x,y) in adj if x!=y and (y,x)]\n",
        "    return adjq"
      ],
      "execution_count": 3,
      "outputs": []
    },
    {
      "cell_type": "code",
      "metadata": {
        "id": "vnisBie-II6t"
      },
      "source": [
        "def ip_color2(graph,k):\n",
        "    \n",
        "\n",
        "    # criar solver\n",
        "    solver = pywraplp.Solver('BOP', pywraplp.Solver.BOP_INTEGER_PROGRAMMING)\n",
        "    #criar dicionario de variaveis x{i,j} \n",
        "    x = {}\n",
        "    for i in graph:\n",
        "        x[i] = {}\n",
        "        for j in range(k):\n",
        "            x[i][j] = solver.IntVar(0,1,'x[%i][%i]' % (i,j))\n",
        "\n",
        "    # vertices pre-preenchidos \n",
        "    for o in graph:\n",
        "        if graph.nodes[o]['color'] != 0: \n",
        "              c = graph.nodes[o]['color']\n",
        "              solver.Add(x[o][c-1] == 1)\n",
        "\n",
        "      \n",
        "           \n",
        "    my_list = []\n",
        "      \n",
        "    # vertices adjacentes tem cores diferentes\n",
        "    for o in graph:\n",
        "      for d in graph[o]:\n",
        "            for j in range(k):\n",
        "                  if my_list.count(d) < 1:\n",
        "                      solver.Add(x[o][j] + x[d][j] <= 1)\n",
        "    \n",
        "      my_list.append(o)         \n",
        "                  \n",
        "            \n",
        "    \n",
        "    # cada vertice adjacente tem cores diferentes\n",
        "\n",
        "    for i in graph:\n",
        "        solver.Add(sum([x[i][j] for j in range(k)]) == 1)  # ou solver.Add(sum(list(x[i].values())) == 1) \n",
        "\n",
        "    # invocar solver e colorir o grafo\n",
        "\n",
        "    stat = solver.Solve()\n",
        "    if stat == pywraplp.Solver.OPTIMAL:\n",
        "\n",
        "      # colorir\n",
        "\n",
        "        for i in graph:\n",
        "            for j in range(k):\n",
        "                if round(x[i][j].solution_value()) == 1:\n",
        "                    graph.nodes[i]['color'] = j+1\n",
        "        return True\n",
        "    else:\n",
        "        return False"
      ],
      "execution_count": 19,
      "outputs": []
    },
    {
      "cell_type": "code",
      "metadata": {
        "id": "WOhlzDMJ3MZy"
      },
      "source": [
        "def print_2_graph(mat, graph): \n",
        "    for row in range( len(mat) ):\n",
        "      for col in range( len(mat[row]) ):\n",
        "          id_node = row*len(mat) + col + 1\n",
        "          graph.nodes[id_node]['color'] = mat[row][col]"
      ],
      "execution_count": 31,
      "outputs": []
    },
    {
      "cell_type": "code",
      "metadata": {
        "id": "VIG2VpIOJJry"
      },
      "source": [
        "def converte(grafo, size):\n",
        "    cores=[]\n",
        "    #value = randint(0, size)\n",
        "    for i in grafo:\n",
        "        cores.append(grafo.nodes[i]['color'])\n",
        "\n",
        "    #for i in range(len(cores)):\n",
        "        #cores[i] = ((cores[i] + value) % size) + 1\n",
        "    solvedSudoku=np.reshape(cores,(int(math.sqrt(len(cores))),int(math.sqrt(len(cores)))))\n",
        "\n",
        "    #solvedSudoku = apagaMat(solvedSudoku, prob)\n",
        "    return solvedSudoku"
      ],
      "execution_count": 38,
      "outputs": []
    },
    {
      "cell_type": "code",
      "metadata": {
        "id": "vGrS0b70Z-Oa"
      },
      "source": [
        "def probCheck(prob):\n",
        "    n = random.random()\n",
        "    if(n <= prob):\n",
        "        return True \n",
        "    return False \n",
        "\n",
        "def apagaMat(mat, prob): \n",
        "    prob = 1 - prob\n",
        "    for y in range(len(mat)): \n",
        "        for x in range(len(mat[y])): \n",
        "            if probCheck(prob): \n",
        "                mat[y][x] = 0\n",
        "    return mat "
      ],
      "execution_count": 6,
      "outputs": []
    },
    {
      "cell_type": "code",
      "metadata": {
        "id": "KN4Ga44j-LiU"
      },
      "source": [
        "def validaPos(mat,x,y,n):\n",
        "    tam = len(mat)\n",
        "    for xver in range(tam):\n",
        "        if mat[y][xver] == n:\n",
        "            return False\n",
        "    for yver in range(tam):\n",
        "        if mat[yver][x] == n:\n",
        "            return False\n",
        "    sqSize = int(math.sqrt(tam))\n",
        "    # Check Square\n",
        "    inicioLin = y - y % sqSize\n",
        "    inicioCol = x - x % sqSize\n",
        "    for i in range(sqSize):\n",
        "        for j in range(sqSize):\n",
        "            if mat[i + inicioLin][j + inicioCol] == n:\n",
        "                return False\n",
        "    return True\n",
        "\n",
        "def geraMat(tam,prob):\n",
        "    size = pow(tam,2)\n",
        "    mat = [[0 for i in range(size)] for j in range(size)]\n",
        "    for y in range(len(mat)):\n",
        "        for x in range(len(mat[y])):\n",
        "            if probCheck(prob):\n",
        "                num = random.randint(1, size)\n",
        "                if(validaPos(mat,x,y,num)):\n",
        "                    mat[y][x] = num\n",
        "    return mat"
      ],
      "execution_count": 36,
      "outputs": []
    },
    {
      "cell_type": "code",
      "metadata": {
        "id": "vkVDjnUSBHjQ"
      },
      "source": [
        "def checkZero(mat):\n",
        "    for y in range( len(mat) ):\n",
        "        for x in range( len(mat[y]) ):\n",
        "            if mat[y][x]==0:\n",
        "                return False\n",
        "    return True"
      ],
      "execution_count": 53,
      "outputs": []
    },
    {
      "cell_type": "markdown",
      "metadata": {
        "id": "2EPhqir8IMKS"
      },
      "source": [
        "Execução do código para n = 3.\n"
      ]
    },
    {
      "cell_type": "code",
      "metadata": {
        "colab": {
          "base_uri": "https://localhost:8080/"
        },
        "id": "KHd9XmN1ISXV",
        "outputId": "acf46396-c90d-4403-9918-c9897a299fd5"
      },
      "source": [
        "pontos = [x+1 for x in range(9**2)]\n",
        "pontos = np.reshape(pontos,(9,9)) \n",
        "edges=createEdges(pontos)\n",
        "grafo5=nx.Graph(edges)\n",
        "mat = geraMat(3, 0.6)\n",
        "\n",
        "for x in mat: \n",
        "    print(x)\n",
        "print('\\n')\n",
        "\n",
        "print_2_graph(mat, grafo5)\n",
        "ti = time.perf_counter()\n",
        "ip_color2(grafo5,9)\n",
        "tf = time.perf_counter()\n",
        "solved = converte(grafo5, 9)\n",
        "if checkZero(solved):\n",
        "    print(solved)\n",
        "\n",
        "else: print(\"Não há solução.\")\n",
        "\n",
        "\n",
        "print(f\"Time {tf - ti: 0.5f} seconds\")\n"
      ],
      "execution_count": 88,
      "outputs": [
        {
          "output_type": "stream",
          "name": "stdout",
          "text": [
            "[0, 0, 0, 0, 0, 0, 8, 4, 0]\n",
            "[0, 1, 4, 3, 0, 9, 2, 0, 0]\n",
            "[0, 8, 0, 0, 0, 0, 6, 5, 0]\n",
            "[6, 0, 2, 0, 0, 0, 1, 0, 9]\n",
            "[3, 0, 0, 4, 0, 1, 0, 0, 0]\n",
            "[8, 7, 0, 6, 0, 0, 0, 2, 0]\n",
            "[0, 4, 0, 0, 8, 6, 5, 9, 0]\n",
            "[0, 6, 3, 0, 0, 4, 0, 7, 1]\n",
            "[0, 2, 0, 0, 0, 0, 0, 0, 0]\n",
            "\n",
            "\n",
            "Não há solução.\n",
            "Time  0.13042 seconds\n"
          ]
        }
      ]
    },
    {
      "cell_type": "markdown",
      "metadata": {
        "id": "Se0hY7N8JWZp"
      },
      "source": [
        "Execução do código para n = 4."
      ]
    },
    {
      "cell_type": "code",
      "metadata": {
        "id": "8m2rghnhJe9F",
        "colab": {
          "base_uri": "https://localhost:8080/"
        },
        "outputId": "693b32ce-df74-4897-b1b5-794f211e4647"
      },
      "source": [
        "pontos = [x+1 for x in range(16**2)]\n",
        "pontos = np.reshape(pontos,(16,16))\n",
        "edges=createEdges(pontos)\n",
        "grafo5=nx.Graph(edges)\n",
        "mat = geraMat(4, 0.4)\n",
        "\n",
        "for x in mat: \n",
        "    print(x)\n",
        "print('\\n')\n",
        "\n",
        "print_2_graph(mat, grafo5)\n",
        "ti = time.perf_counter()\n",
        "ip_color2(grafo5,16)\n",
        "tf = time.perf_counter()\n",
        "print(converte(grafo5, 16))\n",
        "print(f\"Time {tf - ti: 0.5f} seconds\")"
      ],
      "execution_count": 92,
      "outputs": [
        {
          "output_type": "stream",
          "name": "stdout",
          "text": [
            "[0, 5, 0, 0, 0, 0, 16, 0, 0, 0, 14, 13, 8, 2, 4, 0]\n",
            "[13, 2, 3, 0, 12, 0, 0, 0, 0, 0, 0, 1, 0, 14, 0, 5]\n",
            "[8, 7, 0, 0, 0, 0, 0, 0, 0, 9, 5, 0, 0, 1, 0, 16]\n",
            "[0, 11, 0, 0, 6, 0, 8, 0, 0, 0, 0, 10, 0, 0, 0, 0]\n",
            "[0, 0, 4, 0, 0, 0, 6, 7, 0, 0, 0, 0, 14, 0, 0, 1]\n",
            "[0, 0, 0, 12, 2, 0, 0, 0, 0, 1, 0, 14, 0, 0, 0, 0]\n",
            "[7, 0, 0, 0, 0, 0, 0, 0, 8, 0, 2, 11, 0, 0, 0, 0]\n",
            "[0, 0, 0, 0, 0, 0, 1, 0, 0, 13, 0, 0, 0, 0, 0, 7]\n",
            "[5, 0, 6, 2, 0, 0, 0, 0, 0, 0, 0, 7, 0, 0, 0, 0]\n",
            "[14, 0, 0, 0, 0, 4, 0, 0, 0, 0, 0, 0, 0, 0, 0, 0]\n",
            "[0, 0, 13, 0, 0, 0, 7, 0, 9, 6, 16, 0, 0, 0, 0, 10]\n",
            "[9, 0, 0, 0, 0, 0, 0, 14, 0, 0, 0, 0, 0, 0, 0, 0]\n",
            "[15, 0, 2, 0, 0, 0, 0, 16, 0, 0, 0, 0, 12, 0, 0, 0]\n",
            "[0, 0, 0, 5, 0, 0, 2, 12, 0, 0, 0, 0, 6, 0, 0, 0]\n",
            "[0, 0, 16, 7, 15, 0, 0, 0, 0, 4, 0, 0, 0, 0, 0, 0]\n",
            "[0, 0, 0, 0, 0, 0, 0, 10, 0, 0, 0, 0, 0, 13, 0, 0]\n",
            "\n",
            "\n",
            "[[ 6  5 15  9 10  3 16  1  7 11 14 13  8  2  4 12]\n",
            " [13  2  3 10 12  7  4 15  6 16  8  1 11 14  9  5]\n",
            " [ 8  7 12  4 14 11 13  2  3  9  5 15 10  1  6 16]\n",
            " [ 1 11 14 16  6  5  8  9 12  2  4 10  7 15 13  3]\n",
            " [ 2  8  4 13  9 15  6  7  5 10  3 16 14 11 12  1]\n",
            " [16 15  5 12  2 13 10 11  4  1  7 14  9  6  3  8]\n",
            " [ 7  9  1  6 16 14  5  3  8 12  2 11 13  4 10 15]\n",
            " [10 14 11  3  8 12  1  4 15 13  9  6 16  5  2  7]\n",
            " [ 5 12  6  2  3 10  9  8 14 15  1  7  4 16 11 13]\n",
            " [14 16  7 11  1  4 15  6 10  8 13  3  2 12  5  9]\n",
            " [ 4  3 13  1 11  2  7  5  9  6 16 12 15  8 14 10]\n",
            " [ 9 10  8 15 13 16 12 14  2  5 11  4  3  7  1  6]\n",
            " [15  4  2  8  5  1 14 16 13  3  6  9 12 10  7 11]\n",
            " [11 13 10  5  7  9  2 12  1 14 15  8  6  3 16  4]\n",
            " [12  1 16  7 15  6  3 13 11  4 10  2  5  9  8 14]\n",
            " [ 3  6  9 14  4  8 11 10 16  7 12  5  1 13 15  2]]\n",
            "Time  1.70118 seconds\n"
          ]
        }
      ]
    },
    {
      "cell_type": "markdown",
      "metadata": {
        "id": "dcvGnDRRJWNH"
      },
      "source": [
        "Execução do código para n = 5."
      ]
    },
    {
      "cell_type": "code",
      "metadata": {
        "id": "yT6-3b3zJlEz",
        "colab": {
          "base_uri": "https://localhost:8080/"
        },
        "outputId": "c85f9e9a-eee4-4a0c-8206-ce640a794bc0"
      },
      "source": [
        "pontos = [x+1 for x in range(25**2)]\n",
        "pontos = np.reshape(pontos,(25,25))\n",
        "edges=createEdges(pontos)\n",
        "grafo5=nx.Graph(edges)\n",
        "mat = geraMat(5, 0.4)\n",
        "\n",
        "for x in mat: \n",
        "    print(x)\n",
        "print('\\n')\n",
        "\n",
        "print_2_graph(mat, grafo5)\n",
        "ti = time.perf_counter()\n",
        "ip_color2(grafo5,25)\n",
        "tf = time.perf_counter()\n",
        "print(converte(grafo5, 25))\n",
        "print(f\"Time {tf - ti: 0.5f} seconds\")"
      ],
      "execution_count": 95,
      "outputs": [
        {
          "output_type": "stream",
          "name": "stdout",
          "text": [
            "[19, 0, 9, 7, 1, 0, 0, 0, 0, 0, 0, 0, 0, 8, 0, 0, 0, 0, 3, 23, 0, 0, 0, 0, 0]\n",
            "[0, 23, 0, 0, 3, 19, 0, 0, 0, 2, 0, 22, 0, 0, 0, 0, 0, 0, 0, 0, 9, 15, 0, 16, 0]\n",
            "[12, 14, 25, 20, 0, 0, 0, 8, 13, 17, 24, 0, 0, 15, 0, 18, 0, 22, 6, 10, 0, 0, 0, 0, 0]\n",
            "[22, 0, 0, 0, 0, 0, 20, 0, 25, 0, 6, 0, 12, 23, 0, 0, 0, 0, 0, 0, 0, 4, 0, 0, 0]\n",
            "[0, 0, 0, 0, 0, 21, 0, 4, 0, 0, 16, 0, 0, 0, 0, 5, 9, 0, 11, 0, 13, 18, 0, 0, 0]\n",
            "[23, 4, 0, 0, 0, 1, 0, 0, 0, 0, 0, 0, 17, 19, 0, 0, 18, 0, 0, 0, 0, 0, 2, 0, 16]\n",
            "[0, 25, 0, 0, 5, 0, 0, 23, 0, 0, 0, 0, 0, 0, 0, 17, 14, 0, 0, 0, 0, 8, 0, 0, 0]\n",
            "[0, 0, 0, 6, 0, 0, 0, 13, 0, 5, 0, 4, 0, 0, 0, 0, 0, 0, 0, 0, 0, 10, 0, 14, 0]\n",
            "[10, 0, 0, 0, 0, 0, 0, 7, 0, 0, 0, 12, 0, 0, 0, 11, 0, 0, 0, 0, 25, 0, 0, 0, 0]\n",
            "[0, 15, 0, 0, 0, 0, 24, 20, 0, 11, 0, 0, 0, 0, 0, 0, 0, 0, 0, 0, 0, 0, 0, 0, 0]\n",
            "[0, 18, 0, 1, 0, 0, 5, 0, 0, 8, 15, 0, 0, 0, 0, 0, 0, 10, 0, 0, 0, 0, 0, 0, 23]\n",
            "[0, 0, 19, 12, 11, 0, 0, 0, 14, 24, 0, 0, 6, 0, 0, 0, 0, 8, 0, 0, 0, 0, 0, 18, 0]\n",
            "[0, 17, 15, 0, 2, 0, 0, 0, 0, 0, 0, 0, 0, 0, 0, 0, 0, 0, 0, 16, 7, 14, 0, 10, 0]\n",
            "[0, 0, 0, 0, 0, 0, 0, 0, 0, 0, 0, 0, 0, 0, 0, 0, 0, 0, 0, 0, 0, 0, 0, 0, 12]\n",
            "[25, 0, 0, 0, 0, 22, 0, 0, 0, 0, 0, 0, 23, 0, 7, 6, 0, 0, 0, 0, 0, 0, 0, 0, 20]\n",
            "[0, 0, 0, 0, 23, 0, 0, 0, 0, 0, 0, 0, 25, 0, 0, 1, 0, 0, 0, 0, 17, 12, 0, 2, 9]\n",
            "[0, 8, 0, 0, 0, 0, 23, 25, 0, 0, 1, 0, 11, 0, 0, 0, 0, 0, 7, 0, 0, 0, 0, 0, 0]\n",
            "[1, 9, 14, 0, 0, 0, 12, 0, 0, 0, 0, 0, 0, 0, 0, 0, 0, 0, 13, 0, 22, 0, 0, 0, 0]\n",
            "[0, 0, 0, 11, 0, 0, 2, 15, 0, 0, 0, 9, 0, 0, 0, 0, 0, 0, 17, 0, 0, 0, 0, 0, 0]\n",
            "[0, 0, 0, 16, 0, 20, 0, 0, 0, 4, 0, 0, 18, 0, 0, 0, 6, 0, 24, 0, 0, 0, 3, 23, 0]\n",
            "[0, 0, 0, 0, 0, 10, 0, 0, 0, 0, 13, 0, 0, 0, 0, 0, 0, 0, 12, 3, 0, 0, 0, 9, 1]\n",
            "[0, 10, 0, 0, 0, 0, 3, 0, 8, 0, 5, 0, 0, 0, 0, 0, 0, 0, 0, 0, 0, 0, 0, 0, 0]\n",
            "[0, 0, 0, 4, 0, 0, 0, 0, 0, 0, 0, 25, 0, 0, 0, 16, 0, 0, 0, 0, 0, 0, 0, 0, 10]\n",
            "[8, 0, 3, 0, 0, 0, 0, 0, 7, 16, 0, 0, 0, 0, 0, 0, 0, 0, 0, 0, 4, 13, 12, 24, 0]\n",
            "[0, 0, 0, 0, 0, 0, 0, 0, 0, 21, 0, 0, 0, 0, 0, 13, 0, 0, 0, 0, 0, 16, 0, 0, 17]\n",
            "\n",
            "\n",
            "[[19  6  9  7  1 24 15 16 11 18  2 14 13  8 17 12  4 21  3 23 20 22 10 25\n",
            "   5]\n",
            " [ 5 23 11 21  3 19 10 12  1  2  4 22  7 18 25 14 17 13  8 20  9 15 24 16\n",
            "   6]\n",
            " [12 14 25 20  4 23  7  8 13 17 24 21  5 15  9 18 16 22  6 10  1  3 11 19\n",
            "   2]\n",
            " [22 13 10 18 16  5 20  3 25  9  6 11 12 23  1 19 24  2 15  7 14  4 17 21\n",
            "   8]\n",
            " [17  2 24 15  8 21  6  4 22 14 16 19 10 20  3  5  9 25 11  1 13 18 23 12\n",
            "   7]\n",
            " [23  4 20  9  7  1 21 22 12  6 14 24 17 19 13 10 18  3 25  8  5 11  2 15\n",
            "  16]\n",
            " [24 25  1  2  5  9 18 23  3 10 20  6 22 11 16 17 14 15  4 21 12  8 19  7\n",
            "  13]\n",
            " [18 11 22  6 12 17 25 13  2  5  8  4 21  7 15  9 23  1 16 19 24 10 20 14\n",
            "   3]\n",
            " [10 21 16 17 14  8  4  7 19 15 23 12  1  3  2 11  5 24 20 13 25  9  6 22\n",
            "  18]\n",
            " [ 3 15  8 13 19 14 24 20 16 11 10  5  9 25 18  2 12  7 22  6 23 17  4  1\n",
            "  21]\n",
            " [ 6 18 21  1  9 12  5 11 20  8 15 16 14 24 19  7 22 10  2  4  3 25 13 17\n",
            "  23]\n",
            " [ 7  3 19 12 11  2  9 10 14 24 22  1  6 21 20 25 13  8 23 17 16  5 15 18\n",
            "   4]\n",
            " [ 4 17 15  8  2 25 19 21  6 23 11 18  3 13 12 24 20  9  5 16  7 14  1 10\n",
            "  22]\n",
            " [14 20 13 23 22 18 16  1  4  7 25 10  8 17  5 15  3 19 21 11  2 24  9  6\n",
            "  12]\n",
            " [25 16  5 24 10 22 13 17 15  3  9  2 23  4  7  6  1 18 14 12 11 19 21  8\n",
            "  20]\n",
            " [15 22  6 19 23  3 14 24 21 13  7 20 25 16  4  1 11  5 10 18 17 12  8  2\n",
            "   9]\n",
            " [ 2  8 17  3 24 16 23 25 18 22  1 13 11 14  6 20 19 12  7  9 10 21  5  4\n",
            "  15]\n",
            " [ 1  9 14 10 18 11 12  6 17 19 21  3 24  5  8  4  2 23 13 15 22  7 16 20\n",
            "  25]\n",
            " [21  5  4 11 20  7  2 15 10  1 12  9 19 22 23  3  8 16 17 25 18  6 14 13\n",
            "  24]\n",
            " [13 12  7 16 25 20  8  5  9  4 17 15 18  2 10 21  6 14 24 22 19  1  3 23\n",
            "  11]\n",
            " [11 19  2 14 17 10 22 18  5 25 13 23 16  6 24  8 15  4 12  3 21 20  7  9\n",
            "   1]\n",
            " [16 10 12 25 13  6  3  2  8 20  5  7  4  9 14 22 21 17  1 24 15 23 18 11\n",
            "  19]\n",
            " [20 24 18  4  6 13 17 19 23 12  3 25 15  1 21 16  7 11  9 14  8  2 22  5\n",
            "  10]\n",
            " [ 8  1  3  5 21 15 11  9  7 16 19 17 20 10 22 23 25  6 18  2  4 13 12 24\n",
            "  14]\n",
            " [ 9  7 23 22 15  4  1 14 24 21 18  8  2 12 11 13 10 20 19  5  6 16 25  3\n",
            "  17]]\n",
            "Time  14.82604 seconds\n"
          ]
        }
      ]
    },
    {
      "cell_type": "markdown",
      "metadata": {
        "id": "H4v3KwEGJV-o"
      },
      "source": [
        "Execução do código para n = 6."
      ]
    },
    {
      "cell_type": "code",
      "metadata": {
        "id": "FCPl7ePlJoSr"
      },
      "source": [
        "pontos = [x+1 for x in range(36**2)]\n",
        "pontos = np.reshape(pontos,(36,36))\n",
        "edges=createEdges(pontos)\n",
        "grafo5=nx.Graph(edges)\n",
        "mat = geraMat(5, 0.4)\n",
        "\n",
        "for x in mat: \n",
        "    print(x)\n",
        "print('\\n')\n",
        "\n",
        "print_2_graph(mat, grafo5)\n",
        "ti = time.perf_counter()\n",
        "ip_color2(grafo5,36)\n",
        "tf = time.perf_counter()\n",
        "print(converte(grafo5))\n",
        "print(f\"Time {tf - ti: 0.5f} seconds\")"
      ],
      "execution_count": null,
      "outputs": []
    }
  ]
}