{
  "nbformat": 4,
  "nbformat_minor": 0,
  "metadata": {
    "colab": {
      "name": "Untitled0.ipynb",
      "provenance": [],
      "collapsed_sections": []
    },
    "kernelspec": {
      "name": "python3",
      "display_name": "Python 3"
    },
    "language_info": {
      "name": "python"
    }
  },
  "cells": [
    {
      "cell_type": "markdown",
      "metadata": {
        "id": "GcOe2Q858l3y"
      },
      "source": [
        "# 2 - Sudoku \n",
        "\n",
        "  O objetivo é preecncher uma grelha de *N²*$\\times$*N²* com inteiros positivos no intervalo de 1 até *N²*, satisfazendo as seguintes regras:\n",
        "\n",
        "  *   Cada inteiro no intervalo de 1 até *N²* ocorre só uma vez em cada coluna, linha e secção *N*$\\times$*N*.\n",
        "  *   No início do jogo uma fracção *0* $\\leq \\alpha <$ 1 das N⁴ casas da grelha são preenchidas de forma consistente com a regra anterior.\n",
        "\n",
        "Pretende-se: \n",
        "\n",
        "  *   Construir um programa para inicializar a grelha a partir dos parâmetros N e $\\alpha$.\n",
        "  *   Construir soluções do problema paras as combinações de parâmeteos *N* $\\in$ {3,4,5,6} e $\\alpha \\in$ {0.0, 0.2, 0.4, 0.6} e tirar conclusões da complexidade computacional destas soluções.\n",
        "\n",
        "**Análise do Problema** \n",
        "\n",
        "  É esperado receber um *N* e um $\\alpha$, por parte do utilizador, onde *N* corresponde ao tamanho de cada secção do Sudoku que será representado e $\\alpha$ a fracção de casas já preenchidas pela máquina. \n",
        "\n",
        "  Deste modo, o método utilizado para a construção do Sudoku foi a de um grafo. A estrutura do grafo tem a seguinte forma, *(n, A)*, onde *n* corresponde ao nodo e *A* corresponde há lista de nodos que têm uma relação com ele, ou seja, \n",
        "pertemcem à mesma secção, linha ou coluna. \n",
        "\n",
        "Seguidamente, a função **ip_color2** que verifica todas as relações entre os nodos e atribui uma cor diferente para nodos adjacentes. Deste modo, não é possivel existir a mesma cor numa mesma secção, linha ou coluna. \n",
        "\n",
        "Finalmente, como cada cor é lhe atribuído um número $\\varkappa \\in$*N²*. O grafo é representado em forma de matriz com cada cor do nodo a representado como um número.    \n",
        "\n",
        "\n",
        "\n",
        "\n",
        "\n",
        "\n",
        "\n",
        "\n"
      ]
    },
    {
      "cell_type": "code",
      "metadata": {
        "id": "P1kxFdl6H7ET"
      },
      "source": [
        "!pip install ortools #não é necessário executar sempre"
      ],
      "execution_count": null,
      "outputs": []
    },
    {
      "cell_type": "code",
      "metadata": {
        "id": "x94lj7VzHCWq"
      },
      "source": [
        "# importe de bibliotecas importantes para a execução do código\n",
        "import numpy as np\n",
        "import math \n",
        "import networkx as nx\n",
        "import time\n",
        "from ortools.linear_solver import pywraplp"
      ],
      "execution_count": 5,
      "outputs": []
    },
    {
      "cell_type": "code",
      "metadata": {
        "id": "zNWdbi2cIm7K"
      },
      "source": [
        "def checkSquare(x1,y1,x2,y2,size):\n",
        "        if x1//size == x2//size and y1//size == y2//size:\n",
        "            return True\n",
        "        return False\n",
        "\n",
        "def createEdges(mat):\n",
        "    adj=[]\n",
        "    for y in range(len(mat)):\n",
        "        for x in range(len(mat[y])):\n",
        "            for outros in range(x,len(mat[y])):\n",
        "                adj.append((mat[y][x],mat[y][outros]))\n",
        "    for y in range(len(mat)):\n",
        "        for x in range(len(mat[x])):\n",
        "            for outros in range(y,len(mat)):\n",
        "                adj.append((mat[y][x],mat[outros][x]))\n",
        "            \n",
        "    for y in range(len(mat)):\n",
        "        for x in range(len(mat[y])):\n",
        "            for yy in range(len(mat)):\n",
        "                for xx in range(len(mat[yy])):\n",
        "                    if checkSquare(x,y,xx,yy,int(math.sqrt(len(mat)))) and (mat[y][x],mat[yy][xx]) not in adj:\n",
        "                        adj.append((mat[y][x],mat[yy][xx]))\n",
        "    '''\n",
        "    for (x,y) in adj:\n",
        "        if (y,x) is adj:\n",
        "            adj.remove((y,x))\n",
        "    adj = list(set(adj))\n",
        "    for (x,y) in adj:\n",
        "        if x==y :\n",
        "            adj.remove((x,y))'''\n",
        "    adjq = [(x,y) for (x,y) in adj if x!=y and (y,x)]\n",
        "    return adjq"
      ],
      "execution_count": 9,
      "outputs": []
    },
    {
      "cell_type": "code",
      "metadata": {
        "id": "vnisBie-II6t"
      },
      "source": [
        "def ip_color2(graph,k):\n",
        "    \n",
        "\n",
        "    # criar solver\n",
        "    solver = pywraplp.Solver.CreateSolver('SCIP')\n",
        "    #criar dicionario de variaveis x{i,j} \n",
        "    x = {}\n",
        "    for i in graph:\n",
        "        x[i] = {}\n",
        "        for j in range(k):\n",
        "            x[i][j] = solver.IntVar(0,1,'x[%i][%i]' % (i,j))\n",
        "\n",
        "    my_list = []\n",
        "      \n",
        "    # vertices adjacentes tem cores diferentes\n",
        "    for o in graph:\n",
        "      for d in graph[o]:\n",
        "            for j in range(k):\n",
        "              if my_list.count(d) < 1:\n",
        "                 solver.Add(x[o][j] + x[d][j] <= 1)\n",
        "      my_list.append(o)  \n",
        "         \n",
        "         \n",
        "       \n",
        "                 \n",
        "\n",
        "\n",
        "           \n",
        "                  \n",
        "            \n",
        "    \n",
        "    # cada vertice adjacente tem cores diferentes\n",
        "\n",
        "    for i in graph:\n",
        "        solver.Add(sum([x[i][j] for j in range(k)]) == 1)  # ou solver.Add(sum(list(x[i].values())) == 1) \n",
        "\n",
        "    # invocar solver e colorir o grafo\n",
        "\n",
        "    stat = solver.Solve()\n",
        "    if stat == pywraplp.Solver.OPTIMAL:\n",
        "\n",
        "      # colorir\n",
        "\n",
        "        for i in graph:\n",
        "            for j in range(k):\n",
        "                if round(x[i][j].solution_value()) == 1:\n",
        "                    graph.nodes[i]['color'] = j+1\n",
        "        return True\n",
        "    else:\n",
        "        return False"
      ],
      "execution_count": 7,
      "outputs": []
    },
    {
      "cell_type": "code",
      "metadata": {
        "id": "VIG2VpIOJJry"
      },
      "source": [
        "def converte(grafo):\n",
        "    cores=[]\n",
        "    for i in grafo:\n",
        "        cores.append(grafo.nodes[i]['color'])\n",
        "    solvedSudoku=np.reshape(cores,(int(math.sqrt(len(cores))),int(math.sqrt(len(cores)))))\n",
        "    return solvedSudoku"
      ],
      "execution_count": 11,
      "outputs": []
    },
    {
      "cell_type": "markdown",
      "metadata": {
        "id": "2EPhqir8IMKS"
      },
      "source": [
        "Execução do código para n = 3.\n"
      ]
    },
    {
      "cell_type": "code",
      "metadata": {
        "colab": {
          "base_uri": "https://localhost:8080/"
        },
        "id": "KHd9XmN1ISXV",
        "outputId": "57fbb0ba-6b0a-4c69-cc38-be1ff980ebc1"
      },
      "source": [
        "pontos = [x+1 for x in range(9**2)]\n",
        "pontos = np.reshape(pontos,(9,9))\n",
        "edges=createEdges(pontos)\n",
        "grafo5=nx.Graph(edges)\n",
        "nx.set_node_attributes(grafo5,0,'color')\n",
        "ti = time.perf_counter()\n",
        "ip_color2(grafo5,9)\n",
        "tf = time.perf_counter()\n",
        "print(converte(grafo5))\n",
        "print(f\"Time {tf - ti: 0.5f} seconds\")\n"
      ],
      "execution_count": 12,
      "outputs": [
        {
          "output_type": "stream",
          "name": "stdout",
          "text": [
            "[[3 8 9 6 2 7 5 4 1]\n",
            " [1 7 6 3 5 4 2 8 9]\n",
            " [4 2 5 8 1 9 6 3 7]\n",
            " [6 3 2 1 4 8 9 7 5]\n",
            " [5 9 4 2 7 6 3 1 8]\n",
            " [8 1 7 9 3 5 4 2 6]\n",
            " [9 5 1 4 8 2 7 6 3]\n",
            " [2 6 8 7 9 3 1 5 4]\n",
            " [7 4 3 5 6 1 8 9 2]]\n",
            "Time  7.97319 seconds\n"
          ]
        }
      ]
    },
    {
      "cell_type": "markdown",
      "metadata": {
        "id": "Se0hY7N8JWZp"
      },
      "source": [
        "Execução do código para n = 4."
      ]
    },
    {
      "cell_type": "code",
      "metadata": {
        "id": "8m2rghnhJe9F"
      },
      "source": [
        "pontos = [x+1 for x in range(16**2)]\n",
        "pontos = np.reshape(pontos,(16,16))\n",
        "edges=createEdges(pontos)\n",
        "grafo5=nx.Graph(edges)\n",
        "nx.set_node_attributes(grafo5,0,'color')\n",
        "ti = time.perf_counter()\n",
        "ip_color2(grafo5,16)\n",
        "tf = time.perf_counter()\n",
        "print(converte(grafo5))\n",
        "print(f\"Time {tf - ti: 0.5f} seconds\")"
      ],
      "execution_count": null,
      "outputs": []
    },
    {
      "cell_type": "markdown",
      "metadata": {
        "id": "dcvGnDRRJWNH"
      },
      "source": [
        "Execução do código para n = 5."
      ]
    },
    {
      "cell_type": "code",
      "metadata": {
        "id": "yT6-3b3zJlEz"
      },
      "source": [
        "pontos = [x+1 for x in range(25**2)]\n",
        "pontos = np.reshape(pontos,(25,25))\n",
        "edges=createEdges(pontos)\n",
        "grafo5=nx.Graph(edges)\n",
        "nx.set_node_attributes(grafo5,0,'color')\n",
        "ti = time.perf_counter()\n",
        "ip_color2(grafo5,25)\n",
        "tf = time.perf_counter()\n",
        "print(converte(grafo5))\n",
        "print(f\"Time {tf - ti: 0.5f} seconds\")"
      ],
      "execution_count": null,
      "outputs": []
    },
    {
      "cell_type": "markdown",
      "metadata": {
        "id": "H4v3KwEGJV-o"
      },
      "source": [
        "Execução do código para n = 6."
      ]
    },
    {
      "cell_type": "code",
      "metadata": {
        "id": "FCPl7ePlJoSr"
      },
      "source": [
        "pontos = [x+1 for x in range(36**2)]\n",
        "pontos = np.reshape(pontos,(36,36))\n",
        "edges=createEdges(pontos)\n",
        "grafo5=nx.Graph(edges)\n",
        "nx.set_node_attributes(grafo5,0,'color')\n",
        "ti = time.perf_counter()\n",
        "ip_color2(grafo5,36)\n",
        "tf = time.perf_counter()\n",
        "print(converte(grafo5))\n",
        "print(f\"Time {tf - ti: 0.5f} seconds\")"
      ],
      "execution_count": null,
      "outputs": []
    }
  ]
}