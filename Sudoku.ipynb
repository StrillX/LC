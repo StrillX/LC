{
  "nbformat": 4,
  "nbformat_minor": 0,
  "metadata": {
    "colab": {
      "name": "Untitled0.ipynb",
      "provenance": [],
      "collapsed_sections": []
    },
    "kernelspec": {
      "name": "python3",
      "display_name": "Python 3"
    },
    "language_info": {
      "name": "python"
    }
  },
  "cells": [
    {
      "cell_type": "markdown",
      "metadata": {
        "id": "GcOe2Q858l3y"
      },
      "source": [
        "# 2 - Sudoku \n",
        "\n",
        "  O objetivo é preecncher uma grelha de *N²*$\\times$*N²* com inteiros positivos no intervalo de 1 até *N²*, satisfazendo as seguintes regras:\n",
        "\n",
        "  *   Cada inteiro no intervalo de 1 até *N²* ocorre só uma vez em cada coluna, linha e secção *N*$\\times$*N*.\n",
        "  *   No início do jogo uma fracção *0* $\\leq \\alpha <$ 1 das N⁴ casas da grelha são preenchidas de forma consistente com a regra anterior.\n",
        "\n",
        "Pretende-se: \n",
        "\n",
        "  *   Construir um programa para inicializar a grelha a partir dos parâmetros N e $\\alpha$.\n",
        "  *   Construir soluções do problema paras as combinações de parâmeteos *N* $\\in$ {3,4,5,6} e $\\alpha \\in$ {0.0, 0.2, 0.4, 0.6} e tirar conclusões da complexidade computacional destas soluções.\n",
        "\n",
        "**Análise do Problema** \n",
        "\n",
        "  É esperado receber um *N* e um $\\alpha$, por parte do utilizador, onde *N* corresponde ao tamanho de cada secção do Sudoku que será representado e $\\alpha$ a fracção de casas já preenchidas pela máquina. \n",
        "\n",
        "  Deste modo, o método utilizado para a construção do Sudoku foi a de um grafo. A estrutura do grafo tem a seguinte forma, *(n, A)*, onde *n* corresponde ao nodo e *A* corresponde há lista de nodos que têm uma relação com ele, ou seja, \n",
        "pertemcem à mesma secção, linha ou coluna. \n",
        "\n",
        "Seguidamente, a função **ip_color2** que verifica todas as relações entre os nodos e atribui uma cor diferente para nodos adjacentes. Deste modo, não é possivel existir a mesma cor numa mesma secção, linha ou coluna. \n",
        "\n",
        "Finalmente, como cada cor é lhe atribuído um número $\\varkappa \\in$*N²*. O grafo é representado em forma de matriz com cada cor do nodo a representado como um número.    \n",
        "\n",
        "\n",
        "\n",
        "\n",
        "\n",
        "\n",
        "\n",
        "\n"
      ]
    },
    {
      "cell_type": "code",
      "metadata": {
        "id": "P1kxFdl6H7ET",
        "colab": {
          "base_uri": "https://localhost:8080/",
          "height": 487
        },
        "outputId": "558af72f-4e3e-4ae9-eb4d-1cf0583ca0ef"
      },
      "source": [
        "!pip install ortools #não é necessário executar sempre"
      ],
      "execution_count": 1,
      "outputs": [
        {
          "output_type": "stream",
          "name": "stdout",
          "text": [
            "Collecting ortools\n",
            "  Downloading ortools-9.1.9490-cp37-cp37m-manylinux_2_17_x86_64.manylinux2014_x86_64.whl (14.5 MB)\n",
            "\u001b[K     |████████████████████████████████| 14.5 MB 85 kB/s \n",
            "\u001b[?25hCollecting protobuf>=3.18.0\n",
            "  Downloading protobuf-3.19.0-cp37-cp37m-manylinux_2_17_x86_64.manylinux2014_x86_64.whl (1.1 MB)\n",
            "\u001b[K     |████████████████████████████████| 1.1 MB 57.6 MB/s \n",
            "\u001b[?25hCollecting absl-py>=0.13\n",
            "  Downloading absl_py-0.15.0-py3-none-any.whl (132 kB)\n",
            "\u001b[K     |████████████████████████████████| 132 kB 76.8 MB/s \n",
            "\u001b[?25hRequirement already satisfied: six in /usr/local/lib/python3.7/dist-packages (from absl-py>=0.13->ortools) (1.15.0)\n",
            "Installing collected packages: protobuf, absl-py, ortools\n",
            "  Attempting uninstall: protobuf\n",
            "    Found existing installation: protobuf 3.17.3\n",
            "    Uninstalling protobuf-3.17.3:\n",
            "      Successfully uninstalled protobuf-3.17.3\n",
            "  Attempting uninstall: absl-py\n",
            "    Found existing installation: absl-py 0.12.0\n",
            "    Uninstalling absl-py-0.12.0:\n",
            "      Successfully uninstalled absl-py-0.12.0\n",
            "\u001b[31mERROR: pip's dependency resolver does not currently take into account all the packages that are installed. This behaviour is the source of the following dependency conflicts.\n",
            "tensorflow-metadata 1.2.0 requires absl-py<0.13,>=0.9, but you have absl-py 0.15.0 which is incompatible.\u001b[0m\n",
            "Successfully installed absl-py-0.15.0 ortools-9.1.9490 protobuf-3.19.0\n"
          ]
        },
        {
          "output_type": "display_data",
          "data": {
            "application/vnd.colab-display-data+json": {
              "pip_warning": {
                "packages": [
                  "google"
                ]
              }
            }
          },
          "metadata": {}
        }
      ]
    },
    {
      "cell_type": "code",
      "metadata": {
        "id": "x94lj7VzHCWq"
      },
      "source": [
        "# importe de bibliotecas importantes para a execução do código\n",
        "import numpy as np\n",
        "import math \n",
        "import networkx as nx\n",
        "import time\n",
        "import random \n",
        "from ortools.linear_solver import pywraplp"
      ],
      "execution_count": 30,
      "outputs": []
    },
    {
      "cell_type": "code",
      "metadata": {
        "id": "zNWdbi2cIm7K"
      },
      "source": [
        "def checkSquare(x1,y1,x2,y2,size):\n",
        "        if x1//size == x2//size and y1//size == y2//size:\n",
        "            return True\n",
        "        return False\n",
        "\n",
        "def createEdges(mat):\n",
        "    adj=[]\n",
        "    for y in range(len(mat)):\n",
        "        for x in range(len(mat[y])):\n",
        "            for outros in range(x,len(mat[y])):\n",
        "                adj.append((mat[y][x],mat[y][outros]))\n",
        "    for y in range(len(mat)):\n",
        "        for x in range(len(mat[x])):\n",
        "            for outros in range(y,len(mat)):\n",
        "                adj.append((mat[y][x],mat[outros][x]))\n",
        "            \n",
        "    for y in range(len(mat)):\n",
        "        for x in range(len(mat[y])):\n",
        "            for yy in range(len(mat)):\n",
        "                for xx in range(len(mat[yy])):\n",
        "                    if checkSquare(x,y,xx,yy,int(math.sqrt(len(mat)))) and (mat[y][x],mat[yy][xx]) not in adj:\n",
        "                        adj.append((mat[y][x],mat[yy][xx]))\n",
        "    '''\n",
        "    for (x,y) in adj:\n",
        "        if (y,x) is adj:\n",
        "            adj.remove((y,x))\n",
        "    adj = list(set(adj))\n",
        "    for (x,y) in adj:\n",
        "        if x==y :\n",
        "            adj.remove((x,y))'''\n",
        "    adjq = [(x,y) for (x,y) in adj if x!=y and (y,x)]\n",
        "    return adjq"
      ],
      "execution_count": 3,
      "outputs": []
    },
    {
      "cell_type": "code",
      "metadata": {
        "id": "vnisBie-II6t"
      },
      "source": [
        "def ip_color2(graph,k):\n",
        "    \n",
        "\n",
        "    # criar solver\n",
        "    solver = pywraplp.Solver.CreateSolver('SCIP')\n",
        "    #criar dicionario de variaveis x{i,j} \n",
        "    x = {}\n",
        "    for i in graph:\n",
        "        x[i] = {}\n",
        "        for j in range(k):\n",
        "            x[i][j] = solver.IntVar(0,1,'x[%i][%i]' % (i,j))\n",
        "\n",
        "    my_list = []\n",
        "      \n",
        "    # vertices adjacentes tem cores diferentes\n",
        "    for o in graph:\n",
        "      for d in graph[o]:\n",
        "            for j in range(k):\n",
        "              if my_list.count(d) < 1:\n",
        "                 solver.Add(x[o][j] + x[d][j] <= 1)\n",
        "      my_list.append(o)  \n",
        "         \n",
        "         \n",
        "       \n",
        "                 \n",
        "\n",
        "\n",
        "           \n",
        "                  \n",
        "            \n",
        "    \n",
        "    # cada vertice adjacente tem cores diferentes\n",
        "\n",
        "    for i in graph:\n",
        "        solver.Add(sum([x[i][j] for j in range(k)]) == 1)  # ou solver.Add(sum(list(x[i].values())) == 1) \n",
        "\n",
        "    # invocar solver e colorir o grafo\n",
        "\n",
        "    stat = solver.Solve()\n",
        "    if stat == pywraplp.Solver.OPTIMAL:\n",
        "\n",
        "      # colorir\n",
        "\n",
        "        for i in graph:\n",
        "            for j in range(k):\n",
        "                if round(x[i][j].solution_value()) == 1:\n",
        "                    graph.nodes[i]['color'] = j+1\n",
        "        return True\n",
        "    else:\n",
        "        return False"
      ],
      "execution_count": 4,
      "outputs": []
    },
    {
      "cell_type": "code",
      "metadata": {
        "id": "VIG2VpIOJJry"
      },
      "source": [
        "def converte(grafo, size, prob):\n",
        "    cores=[]\n",
        "    value = randint(0, size)\n",
        "    for i in grafo:\n",
        "        cores.append(grafo.nodes[i]['color'])\n",
        "\n",
        "    for i in range(len(cores)):\n",
        "        cores[i] = ((cores[i] + value) % size) + 1\n",
        "    solvedSudoku=np.reshape(cores,(int(math.sqrt(len(cores))),int(math.sqrt(len(cores)))))\n",
        "\n",
        "    solvedSudoku = apagaMat(solvedSudoku, prob)\n",
        "    return solvedSudoku"
      ],
      "execution_count": 41,
      "outputs": []
    },
    {
      "cell_type": "code",
      "metadata": {
        "id": "vGrS0b70Z-Oa"
      },
      "source": [
        "def probCheck(prob):\n",
        "    n = random.random()\n",
        "    if(n <= prob):\n",
        "        return True \n",
        "    return False \n",
        "\n",
        "def apagaMat(mat, prob): \n",
        "    prob = 1 - prob\n",
        "    for y in range(len(mat)): \n",
        "        for x in range(len(mat[y])): \n",
        "            if probCheck(prob): \n",
        "                mat[y][x] = 0\n",
        "    return mat "
      ],
      "execution_count": 40,
      "outputs": []
    },
    {
      "cell_type": "markdown",
      "metadata": {
        "id": "2EPhqir8IMKS"
      },
      "source": [
        "Execução do código para n = 3.\n"
      ]
    },
    {
      "cell_type": "code",
      "metadata": {
        "colab": {
          "base_uri": "https://localhost:8080/"
        },
        "id": "KHd9XmN1ISXV",
        "outputId": "9b2bd4c8-9ac7-4e86-d7de-2c0cc3e99f75"
      },
      "source": [
        "pontos = [x+1 for x in range(9**2)]\n",
        "pontos = np.reshape(pontos,(9,9))\n",
        "edges=createEdges(pontos)\n",
        "grafo5=nx.Graph(edges)\n",
        "nx.set_node_attributes(grafo5,0,'color')\n",
        "ti = time.perf_counter()\n",
        "ip_color2(grafo5,9)\n",
        "tf = time.perf_counter()\n",
        "print(converte(grafo5, 9, 0.6))\n",
        "print(f\"Time {tf - ti: 0.5f} seconds\")\n"
      ],
      "execution_count": 47,
      "outputs": [
        {
          "output_type": "stream",
          "name": "stdout",
          "text": [
            "[[0 6 7 0 0 5 3 2 8]\n",
            " [8 0 0 1 3 2 0 6 0]\n",
            " [2 0 3 6 8 7 4 1 0]\n",
            " [4 0 9 0 0 0 0 0 3]\n",
            " [0 0 2 9 5 4 1 8 0]\n",
            " [0 8 0 0 0 3 2 9 4]\n",
            " [7 3 8 0 6 0 0 0 0]\n",
            " [0 4 6 0 0 1 0 3 2]\n",
            " [0 0 0 3 4 8 6 0 9]]\n",
            "Time  8.24172 seconds\n"
          ]
        }
      ]
    },
    {
      "cell_type": "markdown",
      "metadata": {
        "id": "Se0hY7N8JWZp"
      },
      "source": [
        "Execução do código para n = 4."
      ]
    },
    {
      "cell_type": "code",
      "metadata": {
        "id": "8m2rghnhJe9F",
        "colab": {
          "base_uri": "https://localhost:8080/"
        },
        "outputId": "a2bc7959-0f17-4e4f-ef13-1f2c24ebfbe0"
      },
      "source": [
        "pontos = [x+1 for x in range(16**2)]\n",
        "pontos = np.reshape(pontos,(16,16))\n",
        "edges=createEdges(pontos)\n",
        "grafo5=nx.Graph(edges)\n",
        "nx.set_node_attributes(grafo5,0,'color')\n",
        "ti = time.perf_counter()\n",
        "ip_color2(grafo5,16)\n",
        "tf = time.perf_counter()\n",
        "print(converte(grafo5, 16, 0.4))\n",
        "print(f\"Time {tf - ti: 0.5f} seconds\")"
      ],
      "execution_count": 48,
      "outputs": [
        {
          "output_type": "stream",
          "name": "stdout",
          "text": [
            "[[ 0  0  0  0  0  0 10  0 12  0 14 15 16  1  0  0]\n",
            " [ 8  0 10  0  4  5  6  7  0  1  0  0 12 13 14  0]\n",
            " [12  0  0  0 16  0  2  0  0  5  0  0  8  0 10  0]\n",
            " [ 0  0  2  0  0  0 14  0  0  9 10 11  4  5  0  7]\n",
            " [ 0  0  0  0  0  0  0 10 13 12 15  0  1  0  3  2]\n",
            " [ 9  8  0 10  0  0  7  0  0 16  0  2  0  0  0 14]\n",
            " [13  0  0  0  0 16  0  0  0  0  0  0  9  8 11 10]\n",
            " [ 1  0  0  2  0  0  0  0  9  0 11  0  5  4  7  0]\n",
            " [ 0  0  0  5  0  0  0  0 14  0 12  0  2  3  0  0]\n",
            " [ 0 11  0  0  0  7  0  0  0  3  0  1  0  0 12 13]\n",
            " [14  0  0  0  0  3  0  0  0  7  0  0 10 11  0  0]\n",
            " [ 0  3  0  0 14 15  0  0  0  0  8  0  6  0  0  0]\n",
            " [ 7  0  0  0  0 10  9  0  0  0 13 12  0  2  0  0]\n",
            " [ 0  0  0  0  7  0  5  0  0  0  0  0  0  0  0  0]\n",
            " [ 0  0  0 12  3  2  1 16  7  0  5  4  0 10  0  0]\n",
            " [ 3  0  1 16 15  0 13  0  0  0  9  0  0  0  0  4]]\n",
            "Time  3.02827 seconds\n"
          ]
        }
      ]
    },
    {
      "cell_type": "markdown",
      "metadata": {
        "id": "dcvGnDRRJWNH"
      },
      "source": [
        "Execução do código para n = 5."
      ]
    },
    {
      "cell_type": "code",
      "metadata": {
        "id": "yT6-3b3zJlEz",
        "colab": {
          "base_uri": "https://localhost:8080/"
        },
        "outputId": "1d3370b3-5dce-40c9-9dba-6785f2dc99ff"
      },
      "source": [
        "pontos = [x+1 for x in range(25**2)]\n",
        "pontos = np.reshape(pontos,(25,25))\n",
        "edges=createEdges(pontos)\n",
        "grafo5=nx.Graph(edges)\n",
        "nx.set_node_attributes(grafo5,0,'color')\n",
        "ti = time.perf_counter()\n",
        "ip_color2(grafo5,25)\n",
        "tf = time.perf_counter()\n",
        "print(converte(grafo5, 25, 0.4))\n",
        "print(f\"Time {tf - ti: 0.5f} seconds\")"
      ],
      "execution_count": 49,
      "outputs": [
        {
          "output_type": "stream",
          "name": "stdout",
          "text": [
            "[[4 4 4 0 4 4 4 4 0 0 4 4 4 4 0 4 0 4 4 4 0 0 4 0 0]\n",
            " [0 0 0 0 0 0 4 0 0 0 0 0 4 4 0 0 0 0 4 0 0 0 4 4 4]\n",
            " [0 4 4 0 0 0 4 4 0 0 0 0 0 0 0 4 0 0 0 0 4 0 4 4 4]\n",
            " [0 4 0 0 4 0 4 0 0 0 0 4 0 4 4 0 0 0 0 0 0 4 0 0 0]\n",
            " [4 0 4 0 4 0 0 4 0 4 4 0 0 0 4 0 0 0 0 0 0 4 0 4 0]\n",
            " [4 0 0 0 0 0 0 4 0 4 0 0 0 4 0 0 0 0 0 4 0 4 4 4 0]\n",
            " [4 4 4 4 0 0 0 0 0 0 0 4 0 4 0 4 0 0 4 0 4 4 4 4 4]\n",
            " [0 4 0 0 0 0 4 0 0 0 0 4 4 0 4 0 0 4 0 4 4 0 0 4 0]\n",
            " [4 0 0 4 0 0 4 0 0 4 0 0 0 0 4 0 0 4 0 0 4 4 0 0 4]\n",
            " [4 0 4 4 4 0 4 4 0 0 0 0 4 0 0 4 4 4 0 4 0 0 0 0 4]\n",
            " [0 0 0 4 0 0 4 4 0 0 0 0 4 0 4 4 0 0 4 0 0 0 0 0 4]\n",
            " [4 4 4 0 0 4 0 4 4 4 0 0 0 4 0 0 0 0 4 4 0 4 0 4 0]\n",
            " [0 0 0 0 0 0 0 0 0 4 0 4 0 4 4 0 4 0 0 0 4 0 4 0 4]\n",
            " [0 4 4 4 4 0 0 0 4 0 0 0 0 4 0 0 4 4 4 4 0 4 4 0 4]\n",
            " [0 0 4 4 0 0 0 4 0 0 0 0 4 0 4 0 4 0 0 0 4 0 0 4 0]\n",
            " [0 0 4 0 4 4 0 4 4 0 4 4 0 0 4 4 4 4 4 4 0 0 4 4 4]\n",
            " [0 0 4 0 0 4 0 0 4 0 4 0 4 0 0 0 0 0 0 4 0 4 0 4 0]\n",
            " [4 4 4 4 0 0 0 0 0 4 4 0 0 0 4 0 0 0 4 0 0 0 0 4 0]\n",
            " [4 4 4 0 0 0 0 4 4 4 4 0 4 4 0 4 4 0 4 0 0 4 0 4 4]\n",
            " [0 4 0 0 0 0 0 4 0 4 0 0 4 0 0 0 0 0 4 4 4 0 0 0 4]\n",
            " [0 0 4 4 4 0 4 4 4 0 0 0 0 0 0 4 0 0 0 0 0 0 0 0 0]\n",
            " [4 0 4 0 4 0 4 0 4 0 0 0 4 4 4 4 0 0 0 4 0 4 4 0 4]\n",
            " [0 0 0 4 0 4 0 4 0 0 4 0 0 0 0 4 0 4 4 0 0 0 0 4 4]\n",
            " [0 0 4 4 4 4 0 0 0 0 0 0 0 0 0 0 0 0 0 4 0 0 0 0 0]\n",
            " [0 0 0 0 4 0 0 4 0 4 0 0 4 0 4 0 0 0 4 4 4 4 0 0 0]]\n",
            "Time  1101.19843 seconds\n"
          ]
        }
      ]
    },
    {
      "cell_type": "markdown",
      "metadata": {
        "id": "H4v3KwEGJV-o"
      },
      "source": [
        "Execução do código para n = 6."
      ]
    },
    {
      "cell_type": "code",
      "metadata": {
        "id": "FCPl7ePlJoSr",
        "colab": {
          "base_uri": "https://localhost:8080/",
          "height": 382
        },
        "outputId": "494b73d6-5905-43e5-82e9-cdf10bad4945"
      },
      "source": [
        "pontos = [x+1 for x in range(36**2)]\n",
        "pontos = np.reshape(pontos,(36,36))\n",
        "edges=createEdges(pontos)\n",
        "grafo5=nx.Graph(edges)\n",
        "nx.set_node_attributes(grafo5,0,'color')\n",
        "ti = time.perf_counter()\n",
        "ip_color2(grafo5,36)\n",
        "tf = time.perf_counter()\n",
        "print(converte(grafo5))\n",
        "print(f\"Time {tf - ti: 0.5f} seconds\")"
      ],
      "execution_count": 9,
      "outputs": [
        {
          "output_type": "error",
          "ename": "KeyboardInterrupt",
          "evalue": "ignored",
          "traceback": [
            "\u001b[0;31m---------------------------------------------------------------------------\u001b[0m",
            "\u001b[0;31mKeyboardInterrupt\u001b[0m                         Traceback (most recent call last)",
            "\u001b[0;32m<ipython-input-9-b38b26ab5bd2>\u001b[0m in \u001b[0;36m<module>\u001b[0;34m()\u001b[0m\n\u001b[1;32m      1\u001b[0m \u001b[0mpontos\u001b[0m \u001b[0;34m=\u001b[0m \u001b[0;34m[\u001b[0m\u001b[0mx\u001b[0m\u001b[0;34m+\u001b[0m\u001b[0;36m1\u001b[0m \u001b[0;32mfor\u001b[0m \u001b[0mx\u001b[0m \u001b[0;32min\u001b[0m \u001b[0mrange\u001b[0m\u001b[0;34m(\u001b[0m\u001b[0;36m36\u001b[0m\u001b[0;34m**\u001b[0m\u001b[0;36m2\u001b[0m\u001b[0;34m)\u001b[0m\u001b[0;34m]\u001b[0m\u001b[0;34m\u001b[0m\u001b[0;34m\u001b[0m\u001b[0m\n\u001b[1;32m      2\u001b[0m \u001b[0mpontos\u001b[0m \u001b[0;34m=\u001b[0m \u001b[0mnp\u001b[0m\u001b[0;34m.\u001b[0m\u001b[0mreshape\u001b[0m\u001b[0;34m(\u001b[0m\u001b[0mpontos\u001b[0m\u001b[0;34m,\u001b[0m\u001b[0;34m(\u001b[0m\u001b[0;36m36\u001b[0m\u001b[0;34m,\u001b[0m\u001b[0;36m36\u001b[0m\u001b[0;34m)\u001b[0m\u001b[0;34m)\u001b[0m\u001b[0;34m\u001b[0m\u001b[0;34m\u001b[0m\u001b[0m\n\u001b[0;32m----> 3\u001b[0;31m \u001b[0medges\u001b[0m\u001b[0;34m=\u001b[0m\u001b[0mcreateEdges\u001b[0m\u001b[0;34m(\u001b[0m\u001b[0mpontos\u001b[0m\u001b[0;34m)\u001b[0m\u001b[0;34m\u001b[0m\u001b[0;34m\u001b[0m\u001b[0m\n\u001b[0m\u001b[1;32m      4\u001b[0m \u001b[0mgrafo5\u001b[0m\u001b[0;34m=\u001b[0m\u001b[0mnx\u001b[0m\u001b[0;34m.\u001b[0m\u001b[0mGraph\u001b[0m\u001b[0;34m(\u001b[0m\u001b[0medges\u001b[0m\u001b[0;34m)\u001b[0m\u001b[0;34m\u001b[0m\u001b[0;34m\u001b[0m\u001b[0m\n\u001b[1;32m      5\u001b[0m \u001b[0mnx\u001b[0m\u001b[0;34m.\u001b[0m\u001b[0mset_node_attributes\u001b[0m\u001b[0;34m(\u001b[0m\u001b[0mgrafo5\u001b[0m\u001b[0;34m,\u001b[0m\u001b[0;36m0\u001b[0m\u001b[0;34m,\u001b[0m\u001b[0;34m'color'\u001b[0m\u001b[0;34m)\u001b[0m\u001b[0;34m\u001b[0m\u001b[0;34m\u001b[0m\u001b[0m\n",
            "\u001b[0;32m<ipython-input-3-7d2f599acd68>\u001b[0m in \u001b[0;36mcreateEdges\u001b[0;34m(mat)\u001b[0m\n\u001b[1;32m     19\u001b[0m             \u001b[0;32mfor\u001b[0m \u001b[0myy\u001b[0m \u001b[0;32min\u001b[0m \u001b[0mrange\u001b[0m\u001b[0;34m(\u001b[0m\u001b[0mlen\u001b[0m\u001b[0;34m(\u001b[0m\u001b[0mmat\u001b[0m\u001b[0;34m)\u001b[0m\u001b[0;34m)\u001b[0m\u001b[0;34m:\u001b[0m\u001b[0;34m\u001b[0m\u001b[0;34m\u001b[0m\u001b[0m\n\u001b[1;32m     20\u001b[0m                 \u001b[0;32mfor\u001b[0m \u001b[0mxx\u001b[0m \u001b[0;32min\u001b[0m \u001b[0mrange\u001b[0m\u001b[0;34m(\u001b[0m\u001b[0mlen\u001b[0m\u001b[0;34m(\u001b[0m\u001b[0mmat\u001b[0m\u001b[0;34m[\u001b[0m\u001b[0myy\u001b[0m\u001b[0;34m]\u001b[0m\u001b[0;34m)\u001b[0m\u001b[0;34m)\u001b[0m\u001b[0;34m:\u001b[0m\u001b[0;34m\u001b[0m\u001b[0;34m\u001b[0m\u001b[0m\n\u001b[0;32m---> 21\u001b[0;31m                     \u001b[0;32mif\u001b[0m \u001b[0mcheckSquare\u001b[0m\u001b[0;34m(\u001b[0m\u001b[0mx\u001b[0m\u001b[0;34m,\u001b[0m\u001b[0my\u001b[0m\u001b[0;34m,\u001b[0m\u001b[0mxx\u001b[0m\u001b[0;34m,\u001b[0m\u001b[0myy\u001b[0m\u001b[0;34m,\u001b[0m\u001b[0mint\u001b[0m\u001b[0;34m(\u001b[0m\u001b[0mmath\u001b[0m\u001b[0;34m.\u001b[0m\u001b[0msqrt\u001b[0m\u001b[0;34m(\u001b[0m\u001b[0mlen\u001b[0m\u001b[0;34m(\u001b[0m\u001b[0mmat\u001b[0m\u001b[0;34m)\u001b[0m\u001b[0;34m)\u001b[0m\u001b[0;34m)\u001b[0m\u001b[0;34m)\u001b[0m \u001b[0;32mand\u001b[0m \u001b[0;34m(\u001b[0m\u001b[0mmat\u001b[0m\u001b[0;34m[\u001b[0m\u001b[0my\u001b[0m\u001b[0;34m]\u001b[0m\u001b[0;34m[\u001b[0m\u001b[0mx\u001b[0m\u001b[0;34m]\u001b[0m\u001b[0;34m,\u001b[0m\u001b[0mmat\u001b[0m\u001b[0;34m[\u001b[0m\u001b[0myy\u001b[0m\u001b[0;34m]\u001b[0m\u001b[0;34m[\u001b[0m\u001b[0mxx\u001b[0m\u001b[0;34m]\u001b[0m\u001b[0;34m)\u001b[0m \u001b[0;32mnot\u001b[0m \u001b[0;32min\u001b[0m \u001b[0madj\u001b[0m\u001b[0;34m:\u001b[0m\u001b[0;34m\u001b[0m\u001b[0;34m\u001b[0m\u001b[0m\n\u001b[0m\u001b[1;32m     22\u001b[0m                         \u001b[0madj\u001b[0m\u001b[0;34m.\u001b[0m\u001b[0mappend\u001b[0m\u001b[0;34m(\u001b[0m\u001b[0;34m(\u001b[0m\u001b[0mmat\u001b[0m\u001b[0;34m[\u001b[0m\u001b[0my\u001b[0m\u001b[0;34m]\u001b[0m\u001b[0;34m[\u001b[0m\u001b[0mx\u001b[0m\u001b[0;34m]\u001b[0m\u001b[0;34m,\u001b[0m\u001b[0mmat\u001b[0m\u001b[0;34m[\u001b[0m\u001b[0myy\u001b[0m\u001b[0;34m]\u001b[0m\u001b[0;34m[\u001b[0m\u001b[0mxx\u001b[0m\u001b[0;34m]\u001b[0m\u001b[0;34m)\u001b[0m\u001b[0;34m)\u001b[0m\u001b[0;34m\u001b[0m\u001b[0;34m\u001b[0m\u001b[0m\n\u001b[1;32m     23\u001b[0m     '''\n",
            "\u001b[0;32m<ipython-input-3-7d2f599acd68>\u001b[0m in \u001b[0;36mcheckSquare\u001b[0;34m(x1, y1, x2, y2, size)\u001b[0m\n\u001b[1;32m      1\u001b[0m \u001b[0;32mdef\u001b[0m \u001b[0mcheckSquare\u001b[0m\u001b[0;34m(\u001b[0m\u001b[0mx1\u001b[0m\u001b[0;34m,\u001b[0m\u001b[0my1\u001b[0m\u001b[0;34m,\u001b[0m\u001b[0mx2\u001b[0m\u001b[0;34m,\u001b[0m\u001b[0my2\u001b[0m\u001b[0;34m,\u001b[0m\u001b[0msize\u001b[0m\u001b[0;34m)\u001b[0m\u001b[0;34m:\u001b[0m\u001b[0;34m\u001b[0m\u001b[0;34m\u001b[0m\u001b[0m\n\u001b[0;32m----> 2\u001b[0;31m         \u001b[0;32mif\u001b[0m \u001b[0mx1\u001b[0m\u001b[0;34m//\u001b[0m\u001b[0msize\u001b[0m \u001b[0;34m==\u001b[0m \u001b[0mx2\u001b[0m\u001b[0;34m//\u001b[0m\u001b[0msize\u001b[0m \u001b[0;32mand\u001b[0m \u001b[0my1\u001b[0m\u001b[0;34m//\u001b[0m\u001b[0msize\u001b[0m \u001b[0;34m==\u001b[0m \u001b[0my2\u001b[0m\u001b[0;34m//\u001b[0m\u001b[0msize\u001b[0m\u001b[0;34m:\u001b[0m\u001b[0;34m\u001b[0m\u001b[0;34m\u001b[0m\u001b[0m\n\u001b[0m\u001b[1;32m      3\u001b[0m             \u001b[0;32mreturn\u001b[0m \u001b[0;32mTrue\u001b[0m\u001b[0;34m\u001b[0m\u001b[0;34m\u001b[0m\u001b[0m\n\u001b[1;32m      4\u001b[0m         \u001b[0;32mreturn\u001b[0m \u001b[0;32mFalse\u001b[0m\u001b[0;34m\u001b[0m\u001b[0;34m\u001b[0m\u001b[0m\n\u001b[1;32m      5\u001b[0m \u001b[0;34m\u001b[0m\u001b[0m\n",
            "\u001b[0;31mKeyboardInterrupt\u001b[0m: "
          ]
        }
      ]
    }
  ]
}