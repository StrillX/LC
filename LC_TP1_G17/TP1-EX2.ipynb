{
 "cells": [
  {
   "cell_type": "markdown",
   "metadata": {},
   "source": [
    "# Trabalho Prático 1\n",
    "## Bruno Jardim (a91680) José Ferreira (a91636)\n"
   ]
  },
  {
   "cell_type": "markdown",
   "metadata": {
    "id": "GcOe2Q858l3y"
   },
   "source": [
    "### 2 - Sudoku \n",
    "\n",
    "\n",
    "2. Da definição do jogo “Sudoku” generalizado para a dimensão $N$; o problema tradicional corresponde ao caso $N=3$. O objetivo do Sudoku é preencher uma grelha de $,N^2\\times N^2,$com inteiros positivos no intervalo $\\,1$ até $\\,N^2\\,$, satisfazendo as seguintes regras:\n",
    "    - Cada inteiro no intervalo $\\,1$ até $\\,N^2\\,$ocorre  só uma vez em cada coluna, linha e secção $\\,N\\times N\\,$.\n",
    "    - No início do jogo uma fração $\\,0\\leq \\alpha< 1\\,$ das $\\,N^4\\,$ casas da grelha são preenchidas de forma consistente com a regra anterior.\n",
    "         \n",
    "#### Objetivo do trabalho:\n",
    "   1. Construir um programa para inicializar a grelha a partir dos parâmetros $N$ e $\\alpha$\n",
    "   \n",
    "   \n",
    "   2. Construir soluções do problema para  as combinações de parâmetros $N\\in\\{3,4,5,6\\}$  e$\\,\\alpha \\in \\{\\,0.0\\,,\\,0.2\\,,\\,0.4\\,,\\,0.6\\,\\}$ . Que conclusões pode tirar da complexidade computacional destas soluções.\n"
   ]
  },
  {
   "cell_type": "markdown",
   "metadata": {},
   "source": [
    "#### Análise do Problema:\n",
    "\n",
    "   Existe um $N$ e um $\\alpha$, onde $N^2 \\times N^2$ corresponde ao tamanho do Sudoku que será representado e $\\alpha$ à percentagem de células com um valor predefinido.\n",
    "   \n",
    "   Com estes valores iremos criar uma matriz que representa o Sudoku.\n",
    "   \n",
    "   Para solucionar o problema iremos representar este Sudoku como sendo um grafo e utilizaremos uma versão alterada da função $ip\\_color$ desenvolvida nas aulas, com a finalidade desta colorir o grafo com $N^2$ cores\n",
    "    \n",
    "   Finalmente usaremos o grafo colorido para construir uma matriz correspondente ao Sudoku inicial resolvido."
   ]
  },
  {
   "cell_type": "markdown",
   "metadata": {},
   "source": [
    "#### Solução do Problema:\n",
    "   1. Construir um Sudoku a partir dos parâmetros $N$ e $\\alpha$\n",
    "       - Para isto usaremos as funções $geraMat$ e $probCheck$, elas servem para criar uma matriz/Sudoku de tamanho $N^2$ com $\\alpha$ probabilidade de conter um número em cada célula e para verificar probabilidades, respetivamente\n",
    "           - Não existe garantia que o Sudoku gerado tenha solução"
   ]
  },
  {
   "cell_type": "markdown",
   "metadata": {},
   "source": [
    "```python\n",
    "    def geraMat(tam,prob):\n",
    "        size = pow(tam,2)\n",
    "        mat = [[0 for i in range(size)] for j in range(size)]\n",
    "        for y in range(len(mat)):\n",
    "            for x in range(len(mat[y])):\n",
    "                if probCheck(prob):\n",
    "                    num = random.randint(1, size)\n",
    "                    if(validaPos(mat,x,y,num)):\n",
    "                        mat[y][x] = num\n",
    "        return mat\n",
    "    \n",
    "    \n",
    "    def probCheck(prob):\n",
    "    n = random.random()\n",
    "    if(n <= prob):\n",
    "        return True \n",
    "    return False \n",
    "\n",
    "\n",
    "```\n"
   ]
  },
  {
   "cell_type": "markdown",
   "metadata": {},
   "source": [
    "2. Construir o grafo equivalente à matriz do Sudoku\n",
    "    - Para isto usaremos as funções $createEdges$ e $checkSquare$, que serve para criar as edges do grafo\n",
    "    \n"
   ]
  },
  {
   "cell_type": "markdown",
   "metadata": {},
   "source": [
    "```python\n",
    "def checkSquare(x1,y1,x2,y2,size):\n",
    "        if x1//size == x2//size and y1//size == y2//size:\n",
    "            return True\n",
    "        return False\n",
    "\n",
    "    \n",
    "    \n",
    "    \n",
    "def createEdges(size):\n",
    "    size = size**2\n",
    "    mat = [x+1 for x in range(size**2)]\n",
    "    mat = np.reshape(mat,(size,size)) \n",
    "    adj=[]\n",
    "    for y in range(len(mat)):\n",
    "        for x in range(len(mat[y])):\n",
    "            for outros in range(x,len(mat[y])):\n",
    "                adj.append((mat[y][x],mat[y][outros]))\n",
    "    for y in range(len(mat)):\n",
    "        for x in range(len(mat[x])):\n",
    "            for outros in range(y,len(mat)):\n",
    "                adj.append((mat[y][x],mat[outros][x]))\n",
    "            \n",
    "    for y in range(len(mat)):\n",
    "        for x in range(len(mat[y])):\n",
    "            for yy in range(len(mat)):\n",
    "                for xx in range(len(mat[yy])):\n",
    "                    if checkSquare(x,y,xx,yy,int(math.sqrt(len(mat)))) and (mat[y][x],mat[yy][xx]) not in adj:\n",
    "                        adj.append((mat[y][x],mat[yy][xx]))\n",
    "   \n",
    "    edges = [(x,y) for (x,y) in adj if x!=y and (y,x)]\n",
    "    return edges\n",
    "\n",
    "\n",
    "\n",
    "\n",
    "```"
   ]
  },
  {
   "cell_type": "markdown",
   "metadata": {},
   "source": [
    "3. Criar o grafo a partir das edges\n",
    "    - Para isto usaremos a biblioteca $NetworkX$\n",
    "    "
   ]
  },
  {
   "cell_type": "markdown",
   "metadata": {},
   "source": [
    "```python\n",
    "grafo=nx.Graph(edges)\n",
    "```\n"
   ]
  },
  {
   "cell_type": "markdown",
   "metadata": {},
   "source": [
    "4. Colorir o grafo \n",
    "    - Para isto usaremos a função $ip\\_color$ desenvolvida nas aulas, com algumas alterações. E a função $conv\\_info$ para passar a informação da matriz para o grafo\n",
    "    \n",
    "    "
   ]
  },
  {
   "cell_type": "markdown",
   "metadata": {},
   "source": [
    "```python\n",
    "def conv_info(mat, graph): \n",
    "    for row in range( len(mat) ):\n",
    "        for col in range( len(mat[row]) ):\n",
    "            id_node = row*len(mat) + col + 1\n",
    "            graph.nodes[id_node]['color'] = mat[row][col]\n",
    "            \n",
    "```"
   ]
  },
  {
   "cell_type": "markdown",
   "metadata": {},
   "source": [
    "```python\n",
    "def ip_color(graph,k):\n",
    "    \n",
    "\n",
    "    # criar solver\n",
    "    solver = pywraplp.Solver('BOP', pywraplp.Solver.BOP_INTEGER_PROGRAMMING)\n",
    "    #criar dicionario de variaveis x{i,j} \n",
    "    x = {}\n",
    "    for i in graph:\n",
    "        x[i] = {}\n",
    "        for j in range(k):\n",
    "            x[i][j] = solver.IntVar(0,1,'x[%i][%i]' % (i,j))\n",
    "\n",
    "    # vertices pre-preenchidos \n",
    "    for o in graph:\n",
    "        if graph.nodes[o]['color'] != 0: \n",
    "            c = graph.nodes[o]['color']\n",
    "            solver.Add(x[o][c-1] == 1)\n",
    "\n",
    "      \n",
    "           \n",
    "    \n",
    "      \n",
    "    # vertices adjacentes tem cores diferentes\n",
    "    for o in graph:\n",
    "        for d in graph[o]:\n",
    "            for j in range(k):\n",
    "                solver.Add(x[o][j] + x[d][j] <= 1)\n",
    "    \n",
    "            \n",
    "                  \n",
    "            \n",
    "    \n",
    "    # cada vertice adjacente tem cores diferentes\n",
    "\n",
    "    for i in graph:\n",
    "        solver.Add(sum([x[i][j] for j in range(k)]) == 1)  # ou solver.Add(sum(list(x[i].values())) == 1) \n",
    "\n",
    "    # invocar solver e colorir o grafo\n",
    "\n",
    "    stat = solver.Solve()\n",
    "    if stat == pywraplp.Solver.OPTIMAL:\n",
    "\n",
    "      # colorir\n",
    "\n",
    "        for i in graph:\n",
    "            for j in range(k):\n",
    "                if round(x[i][j].solution_value()) == 1:\n",
    "                    graph.nodes[i]['color'] = j+1\n",
    "        return True\n",
    "    else:\n",
    "        return False\n",
    "\n",
    "```"
   ]
  },
  {
   "cell_type": "markdown",
   "metadata": {},
   "source": [
    "5. Converter o grafo a matriz\n",
    "    - Para isto usaremos a função $converte$, que recebe um grafo colorido e converte para uma matriz equivalente ao sudoku resolvido"
   ]
  },
  {
   "cell_type": "markdown",
   "metadata": {},
   "source": [
    "```python\n",
    "def converte(grafo, size):\n",
    "    cores=[]\n",
    "    for i in grafo:\n",
    "        cores.append(grafo.nodes[i]['color'])\n",
    "    solvedSudoku=np.reshape(cores,(int(math.sqrt(len(cores))),int(math.sqrt(len(cores)))))\n",
    "    return solvedSudoku\n",
    "```"
   ]
  },
  {
   "cell_type": "markdown",
   "metadata": {},
   "source": [
    "## Funcões\n"
   ]
  },
  {
   "cell_type": "code",
   "execution_count": 17,
   "metadata": {
    "colab": {
     "base_uri": "https://localhost:8080/"
    },
    "id": "P1kxFdl6H7ET",
    "outputId": "b59d1622-b22e-41c6-ad67-065b5fff738d"
   },
   "outputs": [
    {
     "name": "stdout",
     "output_type": "stream",
     "text": [
      "Requirement already satisfied: ortools in c:\\users\\bruno\\anaconda3\\lib\\site-packages (9.1.9490)\n",
      "Requirement already satisfied: absl-py>=0.13 in c:\\users\\bruno\\anaconda3\\lib\\site-packages (from ortools) (0.14.1)\n",
      "Requirement already satisfied: protobuf>=3.18.0 in c:\\users\\bruno\\anaconda3\\lib\\site-packages (from ortools) (3.18.1)\n",
      "Requirement already satisfied: six in c:\\users\\bruno\\anaconda3\\lib\\site-packages (from absl-py>=0.13->ortools) (1.15.0)\n"
     ]
    },
    {
     "name": "stderr",
     "output_type": "stream",
     "text": [
      "WARNING: You are using pip version 22.0.3; however, version 22.0.4 is available.\n",
      "You should consider upgrading via the 'C:\\Users\\Bruno\\anaconda3\\python.exe -m pip install --upgrade pip' command.\n"
     ]
    }
   ],
   "source": [
    "!pip install ortools "
   ]
  },
  {
   "cell_type": "code",
   "execution_count": 11,
   "metadata": {
    "id": "x94lj7VzHCWq"
   },
   "outputs": [],
   "source": [
    "import numpy as np\n",
    "import math \n",
    "import networkx as nx\n",
    "import time\n",
    "from random import randint\n",
    "import random \n",
    "from ortools.linear_solver import pywraplp"
   ]
  },
  {
   "cell_type": "code",
   "execution_count": 1,
   "metadata": {
    "id": "zNWdbi2cIm7K"
   },
   "outputs": [],
   "source": [
    "def checkSquare(x1,y1,x2,y2,size):\n",
    "        if x1//size == x2//size and y1//size == y2//size:\n",
    "            return True\n",
    "        return False\n",
    "\n",
    "def createEdges(size):\n",
    "    size = size**2\n",
    "    mat = [x+1 for x in range(size**2)]\n",
    "    mat = np.reshape(mat,(size,size)) \n",
    "    adj=[]\n",
    "    for y in range(len(mat)):\n",
    "        for x in range(len(mat[y])):\n",
    "            for outros in range(x,len(mat[y])):\n",
    "                adj.append((mat[y][x],mat[y][outros]))\n",
    "    for y in range(len(mat)):\n",
    "        for x in range(len(mat[x])):\n",
    "            for outros in range(y,len(mat)):\n",
    "                adj.append((mat[y][x],mat[outros][x]))\n",
    "            \n",
    "    for y in range(len(mat)):\n",
    "        for x in range(len(mat[y])):\n",
    "            for yy in range(len(mat)):\n",
    "                for xx in range(len(mat[yy])):\n",
    "                    if checkSquare(x,y,xx,yy,int(math.sqrt(len(mat)))) and (mat[y][x],mat[yy][xx]) not in adj:\n",
    "                        adj.append((mat[y][x],mat[yy][xx]))\n",
    "   \n",
    "    edges = [(x,y) for (x,y) in adj if x!=y and (y,x)]\n",
    "    return edges"
   ]
  },
  {
   "cell_type": "code",
   "execution_count": 2,
   "metadata": {
    "id": "vnisBie-II6t"
   },
   "outputs": [],
   "source": [
    "def ip_color(graph,k):\n",
    "    \n",
    "\n",
    "    # criar solver\n",
    "    solver = pywraplp.Solver('BOP', pywraplp.Solver.BOP_INTEGER_PROGRAMMING)\n",
    "    #criar dicionario de variaveis x{i,j} \n",
    "    x = {}\n",
    "    for i in graph:\n",
    "        x[i] = {}\n",
    "        for j in range(k):\n",
    "            x[i][j] = solver.IntVar(0,1,'x[%i][%i]' % (i,j))\n",
    "\n",
    "    # vertices pre-preenchidos \n",
    "    for o in graph:\n",
    "        if graph.nodes[o]['color'] != 0: \n",
    "            c = graph.nodes[o]['color']\n",
    "            solver.Add(x[o][c-1] == 1)\n",
    "\n",
    "      \n",
    "           \n",
    "    \n",
    "      \n",
    "    # vertices adjacentes tem cores diferentes\n",
    "    for o in graph:\n",
    "        for d in graph[o]:\n",
    "            for j in range(k):\n",
    "                solver.Add(x[o][j] + x[d][j] <= 1)\n",
    "    \n",
    "            \n",
    "                  \n",
    "            \n",
    "    \n",
    "    # cada vertice adjacente tem cores diferentes\n",
    "\n",
    "    for i in graph:\n",
    "        solver.Add(sum([x[i][j] for j in range(k)]) == 1)  # ou solver.Add(sum(list(x[i].values())) == 1) \n",
    "\n",
    "    # invocar solver e colorir o grafo\n",
    "\n",
    "    stat = solver.Solve()\n",
    "    if stat == pywraplp.Solver.OPTIMAL:\n",
    "\n",
    "      # colorir\n",
    "\n",
    "        for i in graph:\n",
    "            for j in range(k):\n",
    "                if round(x[i][j].solution_value()) == 1:\n",
    "                    graph.nodes[i]['color'] = j+1\n",
    "        return True\n",
    "    else:\n",
    "        return False"
   ]
  },
  {
   "cell_type": "code",
   "execution_count": 3,
   "metadata": {
    "id": "WOhlzDMJ3MZy"
   },
   "outputs": [],
   "source": [
    "def conv_info(mat, graph): \n",
    "    for row in range( len(mat) ):\n",
    "        for col in range( len(mat[row]) ):\n",
    "            id_node = row*len(mat) + col + 1\n",
    "            graph.nodes[id_node]['color'] = mat[row][col]"
   ]
  },
  {
   "cell_type": "code",
   "execution_count": 4,
   "metadata": {
    "id": "VIG2VpIOJJry"
   },
   "outputs": [],
   "source": [
    "def converte(grafo, size):\n",
    "    cores=[]\n",
    "    for i in grafo:\n",
    "        cores.append(grafo.nodes[i]['color'])\n",
    "    solvedSudoku=np.reshape(cores,(int(math.sqrt(len(cores))),int(math.sqrt(len(cores)))))\n",
    "    return solvedSudoku"
   ]
  },
  {
   "cell_type": "code",
   "execution_count": 5,
   "metadata": {
    "id": "vGrS0b70Z-Oa"
   },
   "outputs": [],
   "source": [
    "def probCheck(prob):\n",
    "    n = random.random()\n",
    "    if(n <= prob):\n",
    "        return True \n",
    "    return False "
   ]
  },
  {
   "cell_type": "code",
   "execution_count": 6,
   "metadata": {
    "id": "KN4Ga44j-LiU"
   },
   "outputs": [],
   "source": [
    "def validaPos(mat,x,y,n):\n",
    "    tam = len(mat)\n",
    "    for xver in range(tam):\n",
    "        if mat[y][xver] == n:\n",
    "            return False\n",
    "    for yver in range(tam):\n",
    "        if mat[yver][x] == n:\n",
    "            return False\n",
    "    sqSize = int(math.sqrt(tam))\n",
    "    # Check Square\n",
    "    inicioLin = y - y % sqSize\n",
    "    inicioCol = x - x % sqSize\n",
    "    for i in range(sqSize):\n",
    "        for j in range(sqSize):\n",
    "            if mat[i + inicioLin][j + inicioCol] == n:\n",
    "                return False\n",
    "    return True\n",
    "\n",
    "def geraMat(tam,prob):\n",
    "    size = pow(tam,2)\n",
    "    mat = [[0 for i in range(size)] for j in range(size)]\n",
    "    for y in range(len(mat)):\n",
    "        for x in range(len(mat[y])):\n",
    "            if probCheck(prob):\n",
    "                num = random.randint(1, size)\n",
    "                if(validaPos(mat,x,y,num)):\n",
    "                    mat[y][x] = num\n",
    "    return mat"
   ]
  },
  {
   "cell_type": "code",
   "execution_count": 7,
   "metadata": {
    "id": "vkVDjnUSBHjQ"
   },
   "outputs": [],
   "source": [
    "def checkZero(mat):\n",
    "    for y in range( len(mat) ):\n",
    "        for x in range( len(mat[y]) ):\n",
    "            if mat[y][x]==0:\n",
    "                return False\n",
    "    return True"
   ]
  },
  {
   "cell_type": "code",
   "execution_count": 8,
   "metadata": {},
   "outputs": [],
   "source": [
    "def display(mat):\n",
    "    print('\\n'.join([''.join(['{:4}'.format(item) for item in row]) for row in mat]))\n",
    "def sol():\n",
    "    print()\n",
    "    print('SOLUÇÃO:')\n",
    "    print()"
   ]
  },
  {
   "cell_type": "markdown",
   "metadata": {
    "id": "2EPhqir8IMKS"
   },
   "source": [
    "### Execução do código para n = 3.\n"
   ]
  },
  {
   "cell_type": "code",
   "execution_count": 27,
   "metadata": {
    "colab": {
     "base_uri": "https://localhost:8080/"
    },
    "id": "KHd9XmN1ISXV",
    "outputId": "acf46396-c90d-4403-9918-c9897a299fd5"
   },
   "outputs": [
    {
     "name": "stdout",
     "output_type": "stream",
     "text": [
      "[7, 6, 0, 0, 0, 0, 5, 0, 0]\n",
      "[0, 0, 0, 0, 0, 0, 1, 0, 4]\n",
      "[0, 0, 0, 0, 0, 0, 0, 0, 0]\n",
      "[0, 0, 3, 0, 4, 0, 0, 0, 0]\n",
      "[0, 9, 0, 0, 0, 0, 0, 0, 0]\n",
      "[0, 1, 0, 0, 8, 0, 0, 0, 0]\n",
      "[0, 0, 0, 0, 0, 7, 0, 0, 0]\n",
      "[0, 0, 0, 0, 0, 0, 0, 0, 0]\n",
      "[0, 0, 0, 0, 0, 0, 0, 0, 0]\n",
      "\n",
      "\n",
      "   7   6   8   4   3   1   5   9   2\n",
      "   3   2   9   8   6   5   1   7   4\n",
      "   1   5   4   7   9   2   8   6   3\n",
      "   8   7   3   5   4   6   2   1   9\n",
      "   2   9   6   1   7   3   4   5   8\n",
      "   4   1   5   2   8   9   6   3   7\n",
      "   5   4   1   3   2   7   9   8   6\n",
      "   6   3   2   9   1   8   7   4   5\n",
      "   9   8   7   6   5   4   3   2   1\n",
      "Time  0.25255 seconds\n"
     ]
    }
   ],
   "source": [
    "edges=createEdges(3)\n",
    "grafo5=nx.Graph(edges)\n",
    "mat = geraMat(3, 0.2)\n",
    "\n",
    "for x in mat: \n",
    "    print(x)\n",
    "print('\\n')\n",
    "\n",
    "conv_info(mat, grafo5)\n",
    "ti = time.perf_counter()\n",
    "ip_color(grafo5,9)\n",
    "tf = time.perf_counter()\n",
    "solved = converte(grafo5, 9)\n",
    "if checkZero(solved):\n",
    "    display(solved)\n",
    "\n",
    "else: print(\"Não há solução.\")\n",
    "\n",
    "\n",
    "print(f\"Time {tf - ti: 0.5f} seconds\")\n"
   ]
  },
  {
   "cell_type": "markdown",
   "metadata": {
    "id": "Se0hY7N8JWZp"
   },
   "source": [
    "### Execução do código para n = 4."
   ]
  },
  {
   "cell_type": "code",
   "execution_count": 28,
   "metadata": {
    "colab": {
     "base_uri": "https://localhost:8080/"
    },
    "id": "8m2rghnhJe9F",
    "outputId": "693b32ce-df74-4897-b1b5-794f211e4647"
   },
   "outputs": [
    {
     "name": "stdout",
     "output_type": "stream",
     "text": [
      "   0   0  13   0   0   0   0   0   0  14   0   6   0   9   0   0\n",
      "   0   0   0   0   0   0   0   0   0  15  10   0   0   8   0   0\n",
      "   0   0   0   0   0   0   0   0   0   0   0   4   0   0   0  11\n",
      "   0   0   0   0   0   0   0   0   0   0  13   0   0   4   0   0\n",
      "   0   0   0   0   0   2   0   0   0   0   0   0   0   0  12   0\n",
      "   0   0   3   0  11   0   0   0   0   9   0   0   0  13   0   0\n",
      "   0   0   0  12   0   0   0   0   0   0   0   0   0   0   0   0\n",
      "  10   0   0   0   0   0   0   0   0   0   1   0   0   7   0   0\n",
      "   0   0  11   0   0  12   0   0   0   0   0   0   0  15   0   0\n",
      "   0   0   0   5   0   7   0   0   0   0   0   0   0   0   9   0\n",
      "   0   0   0   8   0  10   0   0   4   0   0   0  13   0   6   0\n",
      "   0   0   0   0   0   0   3   0   0   0   0   2   0   0   0   0\n",
      "   0   0   5   0   0   0   0  14   0   0   0   0  11   0   0   0\n",
      "   0   0   0   0   0   0   0   0   0   0   0   0  15   0   0   0\n",
      "   0   0   0  11   0  13   0   0   0   0   0   0   0   0   0   0\n",
      "   0   0   0   0  15   0   0   0   7   0   0   0   0   0   0   0\n",
      "\n",
      "SOLUÇÃO:\n",
      "\n",
      "   8  10  13  15   3   4   7  12   2  14  11   6  16   9   5   1\n",
      "   4  12   6   9  16  14  11   1   5  15  10   3   2   8  13   7\n",
      "   3   5   1   7   2   6   9  13  12   8  16   4  14  10  15  11\n",
      "  11   2  16  14  10  15   5   8   9   7  13   1  12   4   3   6\n",
      "  13   6   9  16   4   2   8   7   3  11  15   5   1  14  12  10\n",
      "   5   1   3   2  11  16  15  10  14   9  12   7   6  13   4   8\n",
      "   7  11   8  12   9   1  14   6  16  13   4  10   5   3   2  15\n",
      "  10  15  14   4  13   3  12   5   6   2   1   8   9   7  11  16\n",
      "   2   9  11   3   6  12   4  16  10   1   8  13   7  15  14   5\n",
      "   6  14   4   5   8   7  13  15  11  12   3  16  10   1   9   2\n",
      "  12   7  15   8   1  10   2  11   4   5  14   9  13  16   6   3\n",
      "   1  16  10  13  14   5   3   9  15   6   7   2   4  11   8  12\n",
      "  15   4   5  10   7   8   1  14  13   3   2  12  11   6  16   9\n",
      "  14  13   2   1   5   9  16   3   8  10   6  11  15  12   7   4\n",
      "   9   3   7  11  12  13   6   4   1  16   5  15   8   2  10  14\n",
      "  16   8  12   6  15  11  10   2   7   4   9  14   3   5   1  13\n",
      "Time  2.09339 seconds\n"
     ]
    }
   ],
   "source": [
    "edges=createEdges(4)\n",
    "grafo5=nx.Graph(edges)\n",
    "mat = geraMat(4, 0.2)\n",
    "\n",
    "display(mat)\n",
    "sol()\n",
    "conv_info(mat, grafo5)\n",
    "ti = time.perf_counter()\n",
    "ip_color(grafo5,16)\n",
    "tf = time.perf_counter()\n",
    "display(converte(grafo5, 16))\n",
    "print(f\"Time {tf - ti: 0.5f} seconds\")"
   ]
  },
  {
   "cell_type": "markdown",
   "metadata": {
    "id": "dcvGnDRRJWNH"
   },
   "source": [
    "### Execução do código para n = 5."
   ]
  },
  {
   "cell_type": "code",
   "execution_count": 16,
   "metadata": {
    "colab": {
     "base_uri": "https://localhost:8080/"
    },
    "id": "yT6-3b3zJlEz",
    "outputId": "c85f9e9a-eee4-4a0c-8206-ce640a794bc0"
   },
   "outputs": [
    {
     "name": "stdout",
     "output_type": "stream",
     "text": [
      "   0   0   0  14   0   0   0   0   0  21   0  11   0   0   0   0   0  12   0  15   0   0   0   0   0\n",
      "   0   9   0   0  21   0   0   0   0   0   1   0   0   0   0   0  17   0   0   0   8   0   0   0   4\n",
      "   0   0   0   0   0   0   0   0   0   4   6   0   0   0   0   0   7   0   3   1   0   0   0   0   0\n",
      "   0   0   0   0   0   0   0   0   0   0   0   0   0   0   0   0   0   0   0  19   0   0   0   3   0\n",
      "   0   6   0   0   0   0   0   0   0   0   0   0   0  12   0   0   0   0   0   0   0   0   5   0   0\n",
      "   9   0   0   0   0   0   1  14   0   0   7   0   0   0   0   0   0   0   0   0   0   0   0   0   0\n",
      "   0  22   0  10   0  13   0   0   0   0   0   0   0   0   0   0   0   0   0   0   0   0   0   0   0\n",
      "   0   0   0   0   0   3   0   0  23   0   0   0   0   0   0   0   0   0   0   0   0   0   0   0   0\n",
      "   1   0   0   0  24  21   0   0   0   0   0  17   0   0  25   0   0   0   0   0   0   0   0  22   0\n",
      "   0   0   0  12  15  11   0   0   0   0   0   0   0  19   0   8   0   9   0  25   0   0   0   0   0\n",
      "   0   0  22   0   0   0   0   0   0   0   0   2   0   0   1   0   0   0   0   0   0   0  10   0   0\n",
      "   0   0   0   0   0   0   0   0   5   8   0   0   0   0   0   7   0   0   0   0   0   0   0   0   0\n",
      "   0   0   0   0   0   0   0   0   0   0  15   0   0   0   0   0  18   0   0  23   0   0   0   0   0\n",
      "   0   0  14   0   2   6   0   0   0   0   0   5   0   0   0   0   0   0  22   0   0   0   0   0   0\n",
      "  12  23   0   0   0   4   0   3   0   0   0   0   9   0   0   0  24   0   0   0   0   0   0   0   0\n",
      "   0   0  15   0   0   0  23   8   0   0   0   0   0   0   0   0   1   0  21   3  19   0   0   0   0\n",
      "   0  12  17  20   0   0  11   0   0   0   0   0   0   0   0  15   0  16   0   0   0   0   0   0   0\n",
      "   0   0   0   0   0   0   0   0   0   0   0  19   0   0   0   0   0   0   0   0   0   0   0   0   0\n",
      "   0   0   0   0  16   0   0   6   0   0  18   0  25   0   5   0   0   0   0   0   0   0   0   1   0\n",
      "   0   0  21   0   0   0  10   0   0   0   0   0   0   0   0  17   0   0   0  13   9   0   0   0   0\n",
      "   0   0   8  15   0   0   0   0   0   0   0   0   0   0   7   0   0   0   0   0   0   0   0   0   0\n",
      "   0   0   0   0   0   0  14   0   0  24   0  22   0   0   0   0   0   0   0   0  13   0   0   0   0\n",
      "   0   0   0  23   0   0   0   0  20   0   0   0   0   9   0   0   0   0   0   0   0   0   0   0   0\n",
      "   0   0   0   0   0   0   3   0   0  10   0   0  24   0   0   0   0   0   0   0   0   0   0   0   0\n",
      "   6   0   0   0   0   0  21   0  18   0   0   0  23   0   0   3   0   0   0   0  11   0  16   0   0\n",
      "\n",
      "SOLUÇÃO:\n",
      "\n",
      "  18  17   3  14  25   8   5  16   7  21  13  11  10   4  20   2   6  12  23  15  24  19   1   9  22\n",
      "  22   9  12   5  21  20  25  15   3   2   1   7  14  23  19  16  17  24  18  10   8  11   6  13   4\n",
      "  16  15   2   8  19  10   9  11  14   4   6  18   5  24  22  13   7  25   3   1  23  12  21  17  20\n",
      "  24  11  23   4   7  18  13   1   6  12  21   8  17   2  16   5  22  20   9  19  15  25  14   3  10\n",
      "  20   6   1  13  10  23  22  24  19  17  25   9   3  12  15  11   8  21   4  14  16   2   5   7  18\n",
      "   9  16  13  11   6  17   1  14  12   5   7  10  18   8  21  22   3  19  15  20   4  23   2  24  25\n",
      "  23  22  25  10  20  13   7  19   8   9   2   6  15   1  14  24   4   5  17  18  21  16   3  11  12\n",
      "  17  21  19   2  14   3  24   4  23  25  22  16  20   5   9   1  13   7  12  11  10  15   8  18   6\n",
      "   1   8   5   3  24  21   6  20  15  18   4  17  12  11  25  10  23   2  14  16   7  13  19  22   9\n",
      "   7  18   4  12  15  11  16  10   2  22  24   3  13  19  23   8  21   9   6  25   1  17  20   5  14\n",
      "  21  13  22  24   8   7  17  12  25  20  19   2  16  18   1   6   9  11   5   4   3  14  10  15  23\n",
      "  11  25  10  16   4  14  18   9   5   8  23  24  22  21   6   7  15   3   1  12  17  20  13  19   2\n",
      "   3  20   7  17   9  16   2  22  10  11  15  25   8  14  12  21  18  13  19  23   5   4  24   6   1\n",
      "  15   1  14  18   2   6  19  13  24  23   3   5  11  10   4  20  16  17  22   8  12   9   7  25  21\n",
      "  12  23   6  19   5   4  15   3  21   1  20  13   9   7  17  14  24  10  25   2  22  18  11   8  16\n",
      "   4  14  15   9  18  25  23   8  13  16  10  20   7   6  24  12   1  22  21   3  19   5  17   2  11\n",
      "  25  12  17  20  23  24  11  18   1  19   9  14   2  22  13  15  10  16   7   5   6   8   4  21   3\n",
      "   5  10  11   7   1   9  12  21  22   3  17  19   4  15   8  25   2  14  20   6  18  24  23  16  13\n",
      "  13  19  24  22  16   2  20   6  17  15  18  21  25   3   5  23  11   4   8   9  14  10  12   1   7\n",
      "   8   2  21   6   3   5  10   7   4  14  12  23   1  16  11  17  19  18  24  13   9  22  25  20  15\n",
      "   2   3   8  15  22  12   4  25  16   6  14   1  19  13   7  18   5  23  11  17  20  21   9  10  24\n",
      "  10   4  16  21  12  19  14  17  11  24   5  22   6  25   3   9  20  15   2   7  13   1  18  23   8\n",
      "  19   5  18  23  11   1   8   2  20   7  16  15  21   9  10   4  12   6  13  24  25   3  22  14  17\n",
      "  14   7  20   1  13  22   3  23   9  10  11   4  24  17  18  19  25   8  16  21   2   6  15  12   5\n",
      "   6  24   9  25  17  15  21   5  18  13   8  12  23  20   2   3  14   1  10  22  11   7  16   4  19\n",
      "Time  14.18468 seconds\n"
     ]
    }
   ],
   "source": [
    "edges=createEdges(5)\n",
    "grafo5=nx.Graph(edges)\n",
    "mat = geraMat(5, 0.2)\n",
    "\n",
    "display(mat)\n",
    "sol()\n",
    "conv_info(mat, grafo5)\n",
    "ti = time.perf_counter()\n",
    "ip_color(grafo5,25)\n",
    "tf = time.perf_counter()\n",
    "display(converte(grafo5, 25))\n",
    "print(f\"Time {tf - ti: 0.5f} seconds\")"
   ]
  },
  {
   "cell_type": "markdown",
   "metadata": {
    "id": "H4v3KwEGJV-o"
   },
   "source": [
    "### Execução do código para n = 6."
   ]
  },
  {
   "cell_type": "code",
   "execution_count": 30,
   "metadata": {
    "id": "FCPl7ePlJoSr"
   },
   "outputs": [
    {
     "ename": "KeyboardInterrupt",
     "evalue": "",
     "output_type": "error",
     "traceback": [
      "\u001b[1;31m---------------------------------------------------------------------------\u001b[0m",
      "\u001b[1;31mKeyboardInterrupt\u001b[0m                         Traceback (most recent call last)",
      "\u001b[1;32m<ipython-input-30-a22e986f8bae>\u001b[0m in \u001b[0;36m<module>\u001b[1;34m\u001b[0m\n\u001b[1;32m----> 1\u001b[1;33m \u001b[0medges\u001b[0m\u001b[1;33m=\u001b[0m\u001b[0mcreateEdges\u001b[0m\u001b[1;33m(\u001b[0m\u001b[1;36m6\u001b[0m\u001b[1;33m)\u001b[0m\u001b[1;33m\u001b[0m\u001b[1;33m\u001b[0m\u001b[0m\n\u001b[0m\u001b[0;32m      2\u001b[0m \u001b[0mgrafo5\u001b[0m\u001b[1;33m=\u001b[0m\u001b[0mnx\u001b[0m\u001b[1;33m.\u001b[0m\u001b[0mGraph\u001b[0m\u001b[1;33m(\u001b[0m\u001b[0medges\u001b[0m\u001b[1;33m)\u001b[0m\u001b[1;33m\u001b[0m\u001b[1;33m\u001b[0m\u001b[0m\n\u001b[0;32m      3\u001b[0m \u001b[0mmat\u001b[0m \u001b[1;33m=\u001b[0m \u001b[0mgeraMat\u001b[0m\u001b[1;33m(\u001b[0m\u001b[1;36m6\u001b[0m\u001b[1;33m,\u001b[0m \u001b[1;36m0\u001b[0m\u001b[1;33m)\u001b[0m\u001b[1;33m\u001b[0m\u001b[1;33m\u001b[0m\u001b[0m\n\u001b[0;32m      4\u001b[0m \u001b[1;33m\u001b[0m\u001b[0m\n\u001b[0;32m      5\u001b[0m \u001b[1;32mfor\u001b[0m \u001b[0mx\u001b[0m \u001b[1;32min\u001b[0m \u001b[0mmat\u001b[0m\u001b[1;33m:\u001b[0m\u001b[1;33m\u001b[0m\u001b[1;33m\u001b[0m\u001b[0m\n",
      "\u001b[1;32m<ipython-input-19-189a6c61d335>\u001b[0m in \u001b[0;36mcreateEdges\u001b[1;34m(size)\u001b[0m\n\u001b[0;32m     22\u001b[0m             \u001b[1;32mfor\u001b[0m \u001b[0myy\u001b[0m \u001b[1;32min\u001b[0m \u001b[0mrange\u001b[0m\u001b[1;33m(\u001b[0m\u001b[0mlen\u001b[0m\u001b[1;33m(\u001b[0m\u001b[0mmat\u001b[0m\u001b[1;33m)\u001b[0m\u001b[1;33m)\u001b[0m\u001b[1;33m:\u001b[0m\u001b[1;33m\u001b[0m\u001b[1;33m\u001b[0m\u001b[0m\n\u001b[0;32m     23\u001b[0m                 \u001b[1;32mfor\u001b[0m \u001b[0mxx\u001b[0m \u001b[1;32min\u001b[0m \u001b[0mrange\u001b[0m\u001b[1;33m(\u001b[0m\u001b[0mlen\u001b[0m\u001b[1;33m(\u001b[0m\u001b[0mmat\u001b[0m\u001b[1;33m[\u001b[0m\u001b[0myy\u001b[0m\u001b[1;33m]\u001b[0m\u001b[1;33m)\u001b[0m\u001b[1;33m)\u001b[0m\u001b[1;33m:\u001b[0m\u001b[1;33m\u001b[0m\u001b[1;33m\u001b[0m\u001b[0m\n\u001b[1;32m---> 24\u001b[1;33m                     \u001b[1;32mif\u001b[0m \u001b[0mcheckSquare\u001b[0m\u001b[1;33m(\u001b[0m\u001b[0mx\u001b[0m\u001b[1;33m,\u001b[0m\u001b[0my\u001b[0m\u001b[1;33m,\u001b[0m\u001b[0mxx\u001b[0m\u001b[1;33m,\u001b[0m\u001b[0myy\u001b[0m\u001b[1;33m,\u001b[0m\u001b[0mint\u001b[0m\u001b[1;33m(\u001b[0m\u001b[0mmath\u001b[0m\u001b[1;33m.\u001b[0m\u001b[0msqrt\u001b[0m\u001b[1;33m(\u001b[0m\u001b[0mlen\u001b[0m\u001b[1;33m(\u001b[0m\u001b[0mmat\u001b[0m\u001b[1;33m)\u001b[0m\u001b[1;33m)\u001b[0m\u001b[1;33m)\u001b[0m\u001b[1;33m)\u001b[0m \u001b[1;32mand\u001b[0m \u001b[1;33m(\u001b[0m\u001b[0mmat\u001b[0m\u001b[1;33m[\u001b[0m\u001b[0my\u001b[0m\u001b[1;33m]\u001b[0m\u001b[1;33m[\u001b[0m\u001b[0mx\u001b[0m\u001b[1;33m]\u001b[0m\u001b[1;33m,\u001b[0m\u001b[0mmat\u001b[0m\u001b[1;33m[\u001b[0m\u001b[0myy\u001b[0m\u001b[1;33m]\u001b[0m\u001b[1;33m[\u001b[0m\u001b[0mxx\u001b[0m\u001b[1;33m]\u001b[0m\u001b[1;33m)\u001b[0m \u001b[1;32mnot\u001b[0m \u001b[1;32min\u001b[0m \u001b[0madj\u001b[0m\u001b[1;33m:\u001b[0m\u001b[1;33m\u001b[0m\u001b[1;33m\u001b[0m\u001b[0m\n\u001b[0m\u001b[0;32m     25\u001b[0m                         \u001b[0madj\u001b[0m\u001b[1;33m.\u001b[0m\u001b[0mappend\u001b[0m\u001b[1;33m(\u001b[0m\u001b[1;33m(\u001b[0m\u001b[0mmat\u001b[0m\u001b[1;33m[\u001b[0m\u001b[0my\u001b[0m\u001b[1;33m]\u001b[0m\u001b[1;33m[\u001b[0m\u001b[0mx\u001b[0m\u001b[1;33m]\u001b[0m\u001b[1;33m,\u001b[0m\u001b[0mmat\u001b[0m\u001b[1;33m[\u001b[0m\u001b[0myy\u001b[0m\u001b[1;33m]\u001b[0m\u001b[1;33m[\u001b[0m\u001b[0mxx\u001b[0m\u001b[1;33m]\u001b[0m\u001b[1;33m)\u001b[0m\u001b[1;33m)\u001b[0m\u001b[1;33m\u001b[0m\u001b[1;33m\u001b[0m\u001b[0m\n\u001b[0;32m     26\u001b[0m \u001b[1;33m\u001b[0m\u001b[0m\n",
      "\u001b[1;31mKeyboardInterrupt\u001b[0m: "
     ]
    }
   ],
   "source": [
    "edges=createEdges(6)\n",
    "grafo5=nx.Graph(edges)\n",
    "mat = geraMat(6, 0)\n",
    "\n",
    "for x in mat: \n",
    "    print(x)\n",
    "print('\\n')\n",
    "\n",
    "conv_info(mat, grafo5)\n",
    "ti = time.perf_counter()\n",
    "ip_color(grafo5,36)\n",
    "tf = time.perf_counter()\n",
    "print(converte(grafo5))\n",
    "print(f\"Time {tf - ti: 0.5f} seconds\")"
   ]
  },
  {
   "cell_type": "markdown",
   "metadata": {},
   "source": [
    "## Versão Backtracking\n",
    " - Definimos também uma função de resolução de Sudokus com um algortimo com uma estratégia de Backtracking.\n",
    "     - Apesar de ser mais eficiente em $N=3$, para valores de $N > 3$ o tempo de execução não é viável\n",
    "     "
   ]
  },
  {
   "cell_type": "code",
   "execution_count": 12,
   "metadata": {},
   "outputs": [],
   "source": [
    "def valido(mat,x,y,n):\n",
    "    tam = len(mat)\n",
    "    for xver in range(tam):\n",
    "        if mat[y][xver] == n:\n",
    "            return False\n",
    "    for yver in range(tam):\n",
    "        if mat[yver][x] == n:\n",
    "            return False\n",
    "\n",
    "\n",
    "\n",
    "\n",
    "    sqSize=int(math.sqrt(tam))\n",
    "    #Check Square\n",
    "    inicioLin=y - y % sqSize\n",
    "    inicioCol=x - x % sqSize\n",
    "\n",
    "\n",
    "\n",
    "    for i in range(sqSize):\n",
    "        for j in  range(sqSize):\n",
    "            if mat[i+inicioLin][j+inicioCol] == n:\n",
    "                return False\n",
    "    return True\n",
    "\n",
    "\n",
    "\n",
    "\n",
    "def sudokuSolver(mat, x, y):\n",
    "    fim = len(mat)\n",
    "    #Verificamos se chegamos ao final da matriz, se sim encontramos uma solucao\n",
    "\n",
    "    if y == fim-1 and x == fim:\n",
    "        return True\n",
    "    #Se chegarmos ao final da linha voltamos ao inicio na linha seguinte\n",
    "    if x == fim:\n",
    "        y+=1\n",
    "        x=0\n",
    "    #Se o numero estiver preenchido saltamos a frente pois é um dos pre-preenchidos\n",
    "    if mat[y][x] > 0 :\n",
    "        return sudokuSolver(mat,x+1,y)\n",
    "    #Tentamos arranjar solucao para o sudoku\n",
    "    for n in range(1,fim+1):\n",
    "        #Verificamos se o numero que tentamos preencher e valido\n",
    "        if valido(mat,x,y,n):\n",
    "            #Preenchemos com o numero caso tenha sido validado\n",
    "            mat[y][x] = n\n",
    "            #Verificamos se e possivel prosseguir, caso contrario damos backtrack\n",
    "            if sudokuSolver(mat,x+1,y):\n",
    "                return True\n",
    "        mat[y][x] = 0\n",
    "    return False"
   ]
  },
  {
   "cell_type": "code",
   "execution_count": 15,
   "metadata": {
    "scrolled": true
   },
   "outputs": [
    {
     "name": "stdout",
     "output_type": "stream",
     "text": [
      "   6   0   0   0   0   0   0   0   0\n",
      "   0   8   0   0   0   0   0   0   0\n",
      "   0   7   4   0   0   0   1   3   0\n",
      "   0   0   5   0   0   0   0   0   1\n",
      "   0   0   0   0   4   0   0   0   0\n",
      "   0   0   0   0   8   0   0   0   0\n",
      "   0   0   0   0   0   0   0   0   8\n",
      "   9   6   0   0   0   7   5   0   0\n",
      "   0   0   3   1   0   0   7   0   0\n",
      "\n",
      "SOLUÇÃO:\n",
      "\n",
      "   6   1   2   3   5   4   8   7   9\n",
      "   3   8   9   7   1   2   4   5   6\n",
      "   5   7   4   8   6   9   1   3   2\n",
      "   4   2   5   6   7   3   9   8   1\n",
      "   8   3   1   9   4   5   6   2   7\n",
      "   7   9   6   2   8   1   3   4   5\n",
      "   1   4   7   5   3   6   2   9   8\n",
      "   9   6   8   4   2   7   5   1   3\n",
      "   2   5   3   1   9   8   7   6   4\n",
      "Time  4.29960 seconds\n"
     ]
    }
   ],
   "source": [
    "mat=geraMat(3,0.3)\n",
    "display(mat)\n",
    "sol()\n",
    "ti = time.perf_counter()\n",
    "sudokuSolver(mat,0,0)\n",
    "tf = time.perf_counter()\n",
    "display(mat)\n",
    "print(f\"Time {tf - ti: 0.5f} seconds\")"
   ]
  },
  {
   "cell_type": "markdown",
   "metadata": {},
   "source": [
    "## Gráficos\n"
   ]
  },
  {
   "cell_type": "markdown",
   "metadata": {},
   "source": [
    "1. Comparação dos diferentes solvers para $N = 3$\n",
    "![alt text](Sudoku_n3.png \"Comparação N=3\")"
   ]
  },
  {
   "cell_type": "markdown",
   "metadata": {},
   "source": [
    "![alt text](Sudoku_BOP_BT.png \"Comparação N=3\")"
   ]
  },
  {
   "cell_type": "markdown",
   "metadata": {},
   "source": [
    "2. Comparação do solver $BOP$ para $N \\in [4,5]$\n",
    "![alt text](Sudoku_n4n5.png \"Comparação N=3\")"
   ]
  },
  {
   "cell_type": "code",
   "execution_count": null,
   "metadata": {},
   "outputs": [],
   "source": []
  }
 ],
 "metadata": {
  "colab": {
   "collapsed_sections": [],
   "name": "Untitled0.ipynb",
   "provenance": []
  },
  "kernelspec": {
   "display_name": "Python 3",
   "language": "python",
   "name": "python3"
  },
  "language_info": {
   "codemirror_mode": {
    "name": "ipython",
    "version": 3
   },
   "file_extension": ".py",
   "mimetype": "text/x-python",
   "name": "python",
   "nbconvert_exporter": "python",
   "pygments_lexer": "ipython3",
   "version": "3.8.8"
  }
 },
 "nbformat": 4,
 "nbformat_minor": 1
}
